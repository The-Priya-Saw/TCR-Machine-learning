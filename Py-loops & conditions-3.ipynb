{
 "cells": [
  {
   "cell_type": "code",
   "execution_count": 1,
   "id": "3b4adeb9",
   "metadata": {
    "ExecuteTime": {
     "end_time": "2022-12-28T14:16:08.266411Z",
     "start_time": "2022-12-28T14:16:08.259587Z"
    }
   },
   "outputs": [
    {
     "name": "stdout",
     "output_type": "stream",
     "text": [
      "Yes it is available\n"
     ]
    }
   ],
   "source": [
    "x = [34, 48, 22, 32, 19]\n",
    "\n",
    "if 34 in x:\n",
    "    print(\"Yes it is available\")\n",
    "else:\n",
    "    print(\"No it is not available\")"
   ]
  },
  {
   "cell_type": "code",
   "execution_count": 3,
   "id": "902aa2ca",
   "metadata": {
    "ExecuteTime": {
     "end_time": "2022-12-28T14:17:11.181503Z",
     "start_time": "2022-12-28T14:17:11.173753Z"
    }
   },
   "outputs": [
    {
     "name": "stdout",
     "output_type": "stream",
     "text": [
      "Inside fourth conditions\n"
     ]
    }
   ],
   "source": [
    "if 4 in x:\n",
    "    print(\"Yes it is available\")\n",
    "elif 21 in x:\n",
    "    print(\"Inside second conditions\")\n",
    "elif 39 in x:\n",
    "    print(\"Inside third conditions\")\n",
    "elif 22 in x:\n",
    "    print(\"Inside fourth conditions\")\n",
    "else:\n",
    "    print(\"Nothing is available \")"
   ]
  },
  {
   "cell_type": "code",
   "execution_count": 2,
   "id": "133d5644",
   "metadata": {
    "ExecuteTime": {
     "end_time": "2022-12-28T14:16:48.914408Z",
     "start_time": "2022-12-28T14:16:48.908455Z"
    }
   },
   "outputs": [
    {
     "name": "stdout",
     "output_type": "stream",
     "text": [
      "Yes is is available\n"
     ]
    }
   ],
   "source": [
    "if 34 in x and 22 in x or 12 in x:\n",
    "    print(\"Yes is is available\")\n",
    "else:\n",
    "    print(\"No it is not available\")"
   ]
  },
  {
   "cell_type": "code",
   "execution_count": 4,
   "id": "0844d791",
   "metadata": {
    "ExecuteTime": {
     "end_time": "2022-12-28T14:19:21.423254Z",
     "start_time": "2022-12-28T14:19:21.419448Z"
    }
   },
   "outputs": [],
   "source": [
    "if 4 in x:\n",
    "    print(\"the value is present\")"
   ]
  },
  {
   "cell_type": "code",
   "execution_count": 5,
   "id": "0ebca58b",
   "metadata": {
    "ExecuteTime": {
     "end_time": "2022-12-28T14:20:40.444514Z",
     "start_time": "2022-12-28T14:20:40.436536Z"
    }
   },
   "outputs": [
    {
     "name": "stdout",
     "output_type": "stream",
     "text": [
      "I am here\n"
     ]
    }
   ],
   "source": [
    "if True:\n",
    "    print(\"I am here\")"
   ]
  },
  {
   "cell_type": "markdown",
   "id": "2b90f934",
   "metadata": {},
   "source": [
    "## Nested IF"
   ]
  },
  {
   "cell_type": "code",
   "execution_count": 10,
   "id": "e035932c",
   "metadata": {
    "ExecuteTime": {
     "end_time": "2022-12-28T14:35:58.828785Z",
     "start_time": "2022-12-28T14:35:58.818434Z"
    }
   },
   "outputs": [
    {
     "name": "stdout",
     "output_type": "stream",
     "text": [
      "gretaer than 102\n"
     ]
    }
   ],
   "source": [
    "i = 105\n",
    "if (i >90 and i <=105):\n",
    "    if(i <=102):\n",
    "        print(\"here the number is less than 102\")\n",
    "        if(i>=93 and i <=100):\n",
    "            print(\"Here the number between 93 and 100\")\n",
    "        elif (i>=100 and i < 102):\n",
    "            print(\"Here the number between 100 and 102\")\n",
    "        else:\n",
    "            print(\"we are lost\")\n",
    "    else:\n",
    "        print(\"gretaer than 102\")\n",
    "else:\n",
    "    print(\"greater than 105\")"
   ]
  },
  {
   "cell_type": "markdown",
   "id": "cbc58d64",
   "metadata": {
    "ExecuteTime": {
     "end_time": "2022-12-28T14:38:05.540783Z",
     "start_time": "2022-12-28T14:38:05.536153Z"
    }
   },
   "source": [
    "## Loops "
   ]
  },
  {
   "cell_type": "code",
   "execution_count": null,
   "id": "29d9d3b3",
   "metadata": {},
   "outputs": [],
   "source": [
    "0,1,2,3,4,5,6,7,8\n",
    "\n",
    "\n",
    "i = 0\n",
    "i, i+1, i+1, i+1, i+1, i+1, i+1\n",
    "\n",
    "\n",
    "i= 0\n",
    "i, i+2, i+2, i+2.....\n",
    "\n",
    "i = 1\n",
    "i, i+2, i+2, i+2....."
   ]
  },
  {
   "cell_type": "code",
   "execution_count": 19,
   "id": "6a19c56d",
   "metadata": {
    "ExecuteTime": {
     "end_time": "2022-12-28T14:57:03.813921Z",
     "start_time": "2022-12-28T14:57:03.806733Z"
    }
   },
   "outputs": [
    {
     "name": "stdout",
     "output_type": "stream",
     "text": [
      "This is an odd number 1\n",
      "This is an even number 2\n",
      "This is an odd number 3\n",
      "This is an even number 4\n",
      "This is an odd number 5\n",
      "0.0007672309875488281\n"
     ]
    }
   ],
   "source": [
    "\n",
    "x= 1 \n",
    "\n",
    "start = time.time()\n",
    "while x <= 5:\n",
    "    if x%2 == 0:\n",
    "        print(f\"This is an even number {x}\")\n",
    "    else:\n",
    "        print(f\"This is an odd number {x}\")\n",
    "    x+=1\n",
    "end = time.time()\n",
    "print(end-start)"
   ]
  },
  {
   "cell_type": "code",
   "execution_count": 18,
   "id": "4cab83e2",
   "metadata": {
    "ExecuteTime": {
     "end_time": "2022-12-28T14:56:32.056603Z",
     "start_time": "2022-12-28T14:56:32.046901Z"
    }
   },
   "outputs": [
    {
     "name": "stdout",
     "output_type": "stream",
     "text": [
      "This is an odd number 6\n",
      "This is an even number 6\n",
      "This is an odd number 6\n",
      "This is an even number 6\n",
      "This is an odd number 6\n",
      "0.001834869384765625\n"
     ]
    }
   ],
   "source": [
    "import time \n",
    "start = time.time()\n",
    "for i in range(1, 6):\n",
    "    if i%2== 0:\n",
    "        print(f\"This is an even number {x}\")\n",
    "    else:\n",
    "        print(f\"This is an odd number {x}\")\n",
    "end = time.time()\n",
    "print(end-start)"
   ]
  },
  {
   "cell_type": "code",
   "execution_count": 20,
   "id": "66f46fca",
   "metadata": {
    "ExecuteTime": {
     "end_time": "2022-12-28T15:00:30.546799Z",
     "start_time": "2022-12-28T15:00:30.540957Z"
    }
   },
   "outputs": [
    {
     "name": "stdout",
     "output_type": "stream",
     "text": [
      "Index of apple is 0\n",
      "Index of mango is 1\n",
      "Index of grapes is 2\n",
      "Index of banana is 3\n"
     ]
    }
   ],
   "source": [
    "fruits  = ['apple', 'mango', 'grapes', 'banana']\n",
    "for i in fruits:\n",
    "    print(f\"Index of {i} is {fruits.index(i)}\")"
   ]
  },
  {
   "cell_type": "code",
   "execution_count": 21,
   "id": "bccd6608",
   "metadata": {
    "ExecuteTime": {
     "end_time": "2022-12-28T15:01:42.865856Z",
     "start_time": "2022-12-28T15:01:42.862060Z"
    }
   },
   "outputs": [
    {
     "name": "stdout",
     "output_type": "stream",
     "text": [
      " Index of apple is 0\n",
      " Index of mango is 1\n"
     ]
    }
   ],
   "source": [
    "for i in fruits:\n",
    "    if \"grapes\" in i :\n",
    "        break\n",
    "    else:\n",
    "        print(f\" Index of {i} is {fruits.index(i)}\")"
   ]
  },
  {
   "cell_type": "code",
   "execution_count": 24,
   "id": "942b2ee5",
   "metadata": {
    "ExecuteTime": {
     "end_time": "2022-12-28T15:10:00.572710Z",
     "start_time": "2022-12-28T15:10:00.567552Z"
    }
   },
   "outputs": [
    {
     "name": "stdout",
     "output_type": "stream",
     "text": [
      " Index of apple is 0\n",
      " Index of mango is 1\n",
      " Index of banana is 3\n",
      "0.00045299530029296875\n"
     ]
    }
   ],
   "source": [
    "start = time.time()\n",
    "for i in fruits:\n",
    "    if \"grapes\" in i :\n",
    "        continue\n",
    "    else:\n",
    "        print(f\" Index of {i} is {fruits.index(i)}\")\n",
    "end = time.time()\n",
    "print(end-start)"
   ]
  },
  {
   "cell_type": "markdown",
   "id": "40a0eec3",
   "metadata": {},
   "source": [
    "## Enumeration"
   ]
  },
  {
   "cell_type": "code",
   "execution_count": 27,
   "id": "3b9ce488",
   "metadata": {
    "ExecuteTime": {
     "end_time": "2022-12-28T15:11:46.797532Z",
     "start_time": "2022-12-28T15:11:46.791649Z"
    }
   },
   "outputs": [],
   "source": [
    "fruits  = ['apple', 'mango', 'grapes', 'banana']"
   ]
  },
  {
   "cell_type": "code",
   "execution_count": 28,
   "id": "4468b63f",
   "metadata": {
    "ExecuteTime": {
     "end_time": "2022-12-28T15:11:47.999283Z",
     "start_time": "2022-12-28T15:11:47.992832Z"
    }
   },
   "outputs": [
    {
     "name": "stdout",
     "output_type": "stream",
     "text": [
      "Index of apple is 0\n",
      "Index of mango is 1\n",
      "Index of grapes is 2\n",
      "Index of banana is 3\n",
      "0.0010170936584472656\n"
     ]
    }
   ],
   "source": [
    "start = time.time()\n",
    "for index, x in enumerate(fruits):\n",
    "    print(f\"Index of {x} is {index}\")\n",
    "end = time.time()\n",
    "print(end-start)"
   ]
  },
  {
   "cell_type": "code",
   "execution_count": 29,
   "id": "b50a25cc",
   "metadata": {
    "ExecuteTime": {
     "end_time": "2022-12-28T15:11:52.332194Z",
     "start_time": "2022-12-28T15:11:52.325517Z"
    }
   },
   "outputs": [
    {
     "name": "stdout",
     "output_type": "stream",
     "text": [
      "Index of apple is 0\n",
      "Index of mango is 1\n",
      "Index of grapes is 2\n",
      "Index of banana is 3\n",
      "0.0011289119720458984\n"
     ]
    }
   ],
   "source": [
    "start = time.time()\n",
    "for i in fruits:\n",
    "    print(f\"Index of {i} is {fruits.index(i)}\")\n",
    "end = time.time()\n",
    "print(end-start)"
   ]
  },
  {
   "cell_type": "code",
   "execution_count": 40,
   "id": "16c5d4bb",
   "metadata": {
    "ExecuteTime": {
     "end_time": "2022-12-28T15:24:05.335429Z",
     "start_time": "2022-12-28T15:24:05.319990Z"
    }
   },
   "outputs": [
    {
     "name": "stdout",
     "output_type": "stream",
     "text": [
      "The stock is not available in our watchlist\n",
      "0.00481104850769043\n"
     ]
    }
   ],
   "source": [
    "stocks = {'TCS': 2000, \"Wipro\": 1000, \"Infosys\": 200}\n",
    "stocks_to_check = \"Exide\"\n",
    "start = time.time()\n",
    "for i in stocks:\n",
    "    if i == stocks_to_check:\n",
    "        print(f\"The price for {i} is INR {stocks[i]}\")\n",
    "        break\n",
    "else:\n",
    "    print(\"The stock is not available in our watchlist\")\n",
    "end = time.time()\n",
    "print(end-start)"
   ]
  },
  {
   "cell_type": "markdown",
   "id": "332be91a",
   "metadata": {},
   "source": [
    "## Fucntions"
   ]
  },
  {
   "cell_type": "code",
   "execution_count": 41,
   "id": "7fee18a8",
   "metadata": {
    "ExecuteTime": {
     "end_time": "2022-12-28T15:24:31.608806Z",
     "start_time": "2022-12-28T15:24:31.602390Z"
    }
   },
   "outputs": [],
   "source": [
    "def stock_checker(stock_tobe_checked):\n",
    "    for i in stocks:\n",
    "        if i == stock_tobe_checked:\n",
    "            return(f\"The price for {i} is INR {stocks[i]}\")\n",
    "            break\n",
    "    else:\n",
    "        return(\"The stock is not available in our watchlist\")"
   ]
  },
  {
   "cell_type": "code",
   "execution_count": 43,
   "id": "8b7ecb63",
   "metadata": {
    "ExecuteTime": {
     "end_time": "2022-12-28T15:25:54.022343Z",
     "start_time": "2022-12-28T15:25:54.015140Z"
    }
   },
   "outputs": [
    {
     "name": "stdout",
     "output_type": "stream",
     "text": [
      "0.00010228157043457031\n"
     ]
    }
   ],
   "source": [
    "start = time.time()\n",
    "stock_checker(\"Exide\")\n",
    "end = time.time()\n",
    "print(end-start)"
   ]
  },
  {
   "cell_type": "code",
   "execution_count": null,
   "id": "9bde8085",
   "metadata": {},
   "outputs": [],
   "source": []
  }
 ],
 "metadata": {
  "kernelspec": {
   "display_name": "Python 3 (ipykernel)",
   "language": "python",
   "name": "python3"
  },
  "language_info": {
   "codemirror_mode": {
    "name": "ipython",
    "version": 3
   },
   "file_extension": ".py",
   "mimetype": "text/x-python",
   "name": "python",
   "nbconvert_exporter": "python",
   "pygments_lexer": "ipython3",
   "version": "3.8.8"
  }
 },
 "nbformat": 4,
 "nbformat_minor": 5
}
