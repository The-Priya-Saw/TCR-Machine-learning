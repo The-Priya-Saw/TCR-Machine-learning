{
 "cells": [
  {
   "cell_type": "markdown",
   "metadata": {},
   "source": [
    "## Functions"
   ]
  },
  {
   "cell_type": "code",
   "execution_count": 10,
   "metadata": {},
   "outputs": [],
   "source": [
    "def evenchecker(x = 0):\n",
    "    if x%2 == 0:\n",
    "        return f\"{x} is  an even number\"\n",
    "    else:\n",
    "        return f\"{x} is an Odd Number\""
   ]
  },
  {
   "cell_type": "code",
   "execution_count": 13,
   "metadata": {},
   "outputs": [
    {
     "data": {
      "text/plain": [
       "'2 is  an even number'"
      ]
     },
     "execution_count": 13,
     "metadata": {},
     "output_type": "execute_result"
    }
   ],
   "source": [
    "evenchecker(2)"
   ]
  },
  {
   "cell_type": "code",
   "execution_count": 16,
   "metadata": {},
   "outputs": [],
   "source": [
    "def multi_even_checker(*x):\n",
    "    even_list = []\n",
    "    for i in range(x.__len__()):\n",
    "        if x[i]%2 == 0:\n",
    "            even_list.append(x[i])\n",
    "        i+=1\n",
    "    if even_list.__len__() == 0:\n",
    "        even_list.append(\"null\")\n",
    "        return even_list\n",
    "    else:\n",
    "        return even_list"
   ]
  },
  {
   "cell_type": "code",
   "execution_count": 17,
   "metadata": {},
   "outputs": [
    {
     "data": {
      "text/plain": [
       "[2, 4, 6, 8]"
      ]
     },
     "execution_count": 17,
     "metadata": {},
     "output_type": "execute_result"
    }
   ],
   "source": [
    "multi_even_checker(2,3,4,5,6,7,8,9)"
   ]
  },
  {
   "cell_type": "code",
   "execution_count": 19,
   "metadata": {},
   "outputs": [
    {
     "data": {
      "text/plain": [
       "['null']"
      ]
     },
     "execution_count": 19,
     "metadata": {},
     "output_type": "execute_result"
    }
   ],
   "source": [
    "multi_even_checker()"
   ]
  },
  {
   "cell_type": "markdown",
   "metadata": {},
   "source": [
    "## Class & Objects"
   ]
  },
  {
   "cell_type": "code",
   "execution_count": 20,
   "metadata": {},
   "outputs": [],
   "source": [
    "#class\n",
    "class Data_Science:\n",
    "    def __init__(self, name, experience):\n",
    "        self.name  = name\n",
    "        self.experience = experience\n"
   ]
  },
  {
   "cell_type": "code",
   "execution_count": 21,
   "metadata": {},
   "outputs": [],
   "source": [
    "#Objects \n",
    "student_1 = Data_Science(\"Rishav\", 7)\n",
    "student_2 = Data_Science(\"Sourav\", 1)\n"
   ]
  },
  {
   "cell_type": "code",
   "execution_count": 25,
   "metadata": {},
   "outputs": [
    {
     "name": "stdout",
     "output_type": "stream",
     "text": [
      "Rishav has enrolled for Data Science with experience of 7\n",
      "Sourav has enrolled for Data Science with experience of 1\n"
     ]
    }
   ],
   "source": [
    "print(f\"{student_1.name} has enrolled for Data Science with experience of {student_1.experience} year\")\n",
    "print(f\"{student_2.name} has enrolled for Data Science with experience of {student_2.experience} year\")\n"
   ]
  },
  {
   "cell_type": "code",
   "execution_count": 29,
   "metadata": {},
   "outputs": [],
   "source": [
    "class Data_Science:\n",
    "    def __init__(self, name, experience, course_enrollment):\n",
    "        self.name = name\n",
    "        self.experience = experience\n",
    "        self.course_enrollment = course_enrollment\n",
    "    \n",
    "    def setTrainingHours(self, trn_hrs):\n",
    "        self.trn_hrs = trn_hrs\n",
    "\n",
    "    def getTrainingHours(self):\n",
    "        return self.trn_hrs\n",
    "\n",
    "    def student_id_generator(self):\n",
    "        return self.name[0:3]+str(self.experience)\n"
   ]
  },
  {
   "cell_type": "code",
   "execution_count": 30,
   "metadata": {},
   "outputs": [],
   "source": [
    "student_1 = Data_Science(\"Rishav\", 7, \"Machine-LEarning\")\n",
    "student_2  =  Data_Science(\"Amit\", 4, 'Data Science')\n",
    "\n",
    "student_1.setTrainingHours(40)\n",
    "student_2.setTrainingHours(60)\n"
   ]
  },
  {
   "cell_type": "code",
   "execution_count": 32,
   "metadata": {},
   "outputs": [
    {
     "name": "stdout",
     "output_type": "stream",
     "text": [
      "Rishav is enrolled for Machine-LEarning with     40 hours, enrollment-id is Ris7\n"
     ]
    }
   ],
   "source": [
    "print(f\"{student_1.name} is enrolled for {student_1.course_enrollment} with \\\n",
    "    {student_1.getTrainingHours()} hours, enrollment-id is {student_1.student_id_generator()}\")"
   ]
  },
  {
   "cell_type": "code",
   "execution_count": 33,
   "metadata": {},
   "outputs": [
    {
     "name": "stdout",
     "output_type": "stream",
     "text": [
      "Amit is enrolled for Data Science with     60 hours, enrollment-id is Ami4\n"
     ]
    }
   ],
   "source": [
    "print(f\"{student_2.name} is enrolled for {student_2.course_enrollment} with \\\n",
    "    {student_2.getTrainingHours()} hours, enrollment-id is {student_2.student_id_generator()}\")"
   ]
  },
  {
   "cell_type": "markdown",
   "metadata": {},
   "source": [
    "## Inheritence"
   ]
  },
  {
   "cell_type": "code",
   "execution_count": 35,
   "metadata": {},
   "outputs": [],
   "source": [
    "#parent Class\n",
    "class Animals(object):\n",
    "    def __init__(self, name):\n",
    "        self.name = name\n",
    "\n",
    "    def setAge(self, set_age):\n",
    "        self.set_age = set_age\n",
    "\n",
    "    def getAge(self):\n",
    "       return self.set_age\n",
    "\n",
    "    def get_name(self):\n",
    "        return self.name\n",
    "\n",
    "#child class\n",
    "class carnivorous(Animals):\n",
    "\n",
    "    def setCountryName(self, set_country_name):\n",
    "        self.setCountryNameset_country_name = set_country_name\n",
    "    \n",
    "    def getCountryName(self):\n",
    "        return self.set_country_name\n",
    "    "
   ]
  },
  {
   "cell_type": "code",
   "execution_count": 36,
   "metadata": {},
   "outputs": [
    {
     "name": "stdout",
     "output_type": "stream",
     "text": [
      "Lion 10\n"
     ]
    }
   ],
   "source": [
    "ani1 = Animals(\"Lion\")\n",
    "ani1.setAge(10)\n",
    "print(ani1.get_name(), ani1.getAge())"
   ]
  },
  {
   "cell_type": "code",
   "execution_count": 37,
   "metadata": {},
   "outputs": [
    {
     "name": "stdout",
     "output_type": "stream",
     "text": [
      "Tiger 5 India\n"
     ]
    }
   ],
   "source": [
    "ani2 = carnivorous(\"Tiger\")\n",
    "ani2.setCountryName(\"India\")\n",
    "ani2.setAge(5)\n",
    "print(ani2.get_name(), ani2.getAge(), ani2.getCountryName())\n"
   ]
  },
  {
   "cell_type": "markdown",
   "metadata": {},
   "source": [
    "## Polymorphisim"
   ]
  },
  {
   "cell_type": "code",
   "execution_count": 38,
   "metadata": {},
   "outputs": [],
   "source": [
    "#Parent Class\n",
    "class cars:\n",
    "    def category(self):\n",
    "        return(\"There are different category of car\")\n",
    "    \n",
    "    def seater(self):\n",
    "        return(\"category depends on the seats of the car\")\n",
    "    \n",
    "#child class\n",
    "class hatchback(cars):\n",
    "    def seater(self):\n",
    "        return(\"This is a 4 seater car\")\n",
    "    \n",
    "class sedan(cars):\n",
    "    def seater(self):\n",
    "        return(\"This is a preminum 5 seater car\")\n",
    "\n",
    "class suv(cars):\n",
    "    def seater(self):\n",
    "        return(\"This is a 7 seater car\")\n",
    "    \n",
    "\n",
    "    "
   ]
  },
  {
   "cell_type": "code",
   "execution_count": 39,
   "metadata": {},
   "outputs": [
    {
     "name": "stdout",
     "output_type": "stream",
     "text": [
      "This is a 4 seater car\n",
      "This is a preminum 5 seater car\n",
      "This is a 7 seater car\n"
     ]
    }
   ],
   "source": [
    "#objects\n",
    "\n",
    "obj_car = cars()\n",
    "\n",
    "obj_hatchback = hatchback()\n",
    "obj_sedan = sedan()\n",
    "obj_suv = suv()\n",
    "\n",
    "\n",
    "print(obj_hatchback.seater())\n",
    "print(obj_sedan.seater())\n",
    "print(obj_suv.seater())"
   ]
  },
  {
   "cell_type": "markdown",
   "metadata": {},
   "source": [
    "Encalsulation : It allow you to reserve the variable within its class \n",
    "Protected : The variable which can be used with given permission \n",
    "Private : The variable cannot be "
   ]
  },
  {
   "cell_type": "code",
   "execution_count": null,
   "metadata": {},
   "outputs": [],
   "source": []
  },
  {
   "cell_type": "code",
   "execution_count": null,
   "metadata": {},
   "outputs": [],
   "source": []
  },
  {
   "cell_type": "code",
   "execution_count": null,
   "metadata": {},
   "outputs": [],
   "source": []
  },
  {
   "cell_type": "code",
   "execution_count": null,
   "metadata": {},
   "outputs": [],
   "source": []
  },
  {
   "cell_type": "code",
   "execution_count": null,
   "metadata": {},
   "outputs": [],
   "source": []
  },
  {
   "cell_type": "code",
   "execution_count": null,
   "metadata": {},
   "outputs": [],
   "source": []
  },
  {
   "cell_type": "code",
   "execution_count": null,
   "metadata": {},
   "outputs": [],
   "source": []
  },
  {
   "cell_type": "markdown",
   "metadata": {},
   "source": []
  }
 ],
 "metadata": {
  "kernelspec": {
   "display_name": "Python 3.8.8 ('base')",
   "language": "python",
   "name": "python3"
  },
  "language_info": {
   "codemirror_mode": {
    "name": "ipython",
    "version": 3
   },
   "file_extension": ".py",
   "mimetype": "text/x-python",
   "name": "python",
   "nbconvert_exporter": "python",
   "pygments_lexer": "ipython3",
   "version": "3.8.8"
  },
  "orig_nbformat": 4,
  "vscode": {
   "interpreter": {
    "hash": "ecd35c037bd360a9223f97d1b9b8f2c86e12889559e066ee9e282756f5cb5240"
   }
  }
 },
 "nbformat": 4,
 "nbformat_minor": 2
}
