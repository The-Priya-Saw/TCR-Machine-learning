{
 "cells": [
  {
   "cell_type": "markdown",
   "id": "0dd24774",
   "metadata": {},
   "source": [
    "## Objective: \n",
    "\n",
    "Identify all the different types of engineering college and categorize them \n",
    "\n",
    "## Top Questions:\n",
    "1. How many differnt types of engg colleges are present \n",
    "2. How each of there types of engg colleges are different from each other\n",
    "\n"
   ]
  },
  {
   "cell_type": "code",
   "execution_count": 31,
   "id": "ce86ada7",
   "metadata": {
    "ExecuteTime": {
     "end_time": "2022-07-30T16:23:50.849633Z",
     "start_time": "2022-07-30T16:23:50.846266Z"
    }
   },
   "outputs": [],
   "source": [
    "import pandas as pd \n",
    "import numpy as np \n",
    "import matplotlib.pyplot as plt \n",
    "import seaborn as sns\n",
    "\n",
    "from sklearn.cluster import KMeans\n",
    "from sklearn.metrics import silhouette_score\n",
    "\n",
    "from yellowbrick.cluster import KElbowVisualizer, SilhouetteVisualizer\n",
    "from scipy.spatial.distance import cdist"
   ]
  },
  {
   "cell_type": "code",
   "execution_count": 28,
   "id": "41846861",
   "metadata": {
    "ExecuteTime": {
     "end_time": "2022-07-30T16:19:09.766802Z",
     "start_time": "2022-07-30T16:19:09.752920Z"
    }
   },
   "outputs": [],
   "source": [
    "dataset = pd.read_csv('/Users/rishavdas/Downloads/Engineering+Colleges+Case+Study.csv')"
   ]
  },
  {
   "cell_type": "code",
   "execution_count": 3,
   "id": "8a144e84",
   "metadata": {
    "ExecuteTime": {
     "end_time": "2022-07-30T15:48:41.523779Z",
     "start_time": "2022-07-30T15:48:41.508243Z"
    }
   },
   "outputs": [
    {
     "data": {
      "text/html": [
       "<div>\n",
       "<style scoped>\n",
       "    .dataframe tbody tr th:only-of-type {\n",
       "        vertical-align: middle;\n",
       "    }\n",
       "\n",
       "    .dataframe tbody tr th {\n",
       "        vertical-align: top;\n",
       "    }\n",
       "\n",
       "    .dataframe thead th {\n",
       "        text-align: right;\n",
       "    }\n",
       "</style>\n",
       "<table border=\"1\" class=\"dataframe\">\n",
       "  <thead>\n",
       "    <tr style=\"text-align: right;\">\n",
       "      <th></th>\n",
       "      <th>SR_NO</th>\n",
       "      <th>Engg_College</th>\n",
       "      <th>Teaching</th>\n",
       "      <th>Fees</th>\n",
       "      <th>Placements</th>\n",
       "      <th>Infrastructure</th>\n",
       "    </tr>\n",
       "  </thead>\n",
       "  <tbody>\n",
       "    <tr>\n",
       "      <th>0</th>\n",
       "      <td>1</td>\n",
       "      <td>A</td>\n",
       "      <td>5</td>\n",
       "      <td>2</td>\n",
       "      <td>5</td>\n",
       "      <td>3</td>\n",
       "    </tr>\n",
       "    <tr>\n",
       "      <th>1</th>\n",
       "      <td>2</td>\n",
       "      <td>B</td>\n",
       "      <td>4</td>\n",
       "      <td>2</td>\n",
       "      <td>5</td>\n",
       "      <td>3</td>\n",
       "    </tr>\n",
       "    <tr>\n",
       "      <th>2</th>\n",
       "      <td>3</td>\n",
       "      <td>C</td>\n",
       "      <td>4</td>\n",
       "      <td>5</td>\n",
       "      <td>5</td>\n",
       "      <td>5</td>\n",
       "    </tr>\n",
       "    <tr>\n",
       "      <th>3</th>\n",
       "      <td>4</td>\n",
       "      <td>D</td>\n",
       "      <td>5</td>\n",
       "      <td>4</td>\n",
       "      <td>5</td>\n",
       "      <td>4</td>\n",
       "    </tr>\n",
       "    <tr>\n",
       "      <th>4</th>\n",
       "      <td>5</td>\n",
       "      <td>E</td>\n",
       "      <td>2</td>\n",
       "      <td>5</td>\n",
       "      <td>2</td>\n",
       "      <td>5</td>\n",
       "    </tr>\n",
       "  </tbody>\n",
       "</table>\n",
       "</div>"
      ],
      "text/plain": [
       "   SR_NO Engg_College  Teaching  Fees  Placements  Infrastructure\n",
       "0      1            A         5     2           5               3\n",
       "1      2            B         4     2           5               3\n",
       "2      3            C         4     5           5               5\n",
       "3      4            D         5     4           5               4\n",
       "4      5            E         2     5           2               5"
      ]
     },
     "execution_count": 3,
     "metadata": {},
     "output_type": "execute_result"
    }
   ],
   "source": [
    "dataset.head()"
   ]
  },
  {
   "cell_type": "code",
   "execution_count": 4,
   "id": "be88f34b",
   "metadata": {
    "ExecuteTime": {
     "end_time": "2022-07-30T15:49:02.992785Z",
     "start_time": "2022-07-30T15:49:02.988674Z"
    }
   },
   "outputs": [
    {
     "data": {
      "text/plain": [
       "(26, 6)"
      ]
     },
     "execution_count": 4,
     "metadata": {},
     "output_type": "execute_result"
    }
   ],
   "source": [
    "dataset.shape"
   ]
  },
  {
   "cell_type": "code",
   "execution_count": 5,
   "id": "a80918b7",
   "metadata": {
    "ExecuteTime": {
     "end_time": "2022-07-30T15:49:51.042255Z",
     "start_time": "2022-07-30T15:49:51.038210Z"
    }
   },
   "outputs": [],
   "source": [
    "df = dataset.copy()"
   ]
  },
  {
   "cell_type": "code",
   "execution_count": 6,
   "id": "e0b1acf6",
   "metadata": {
    "ExecuteTime": {
     "end_time": "2022-07-30T15:49:55.192240Z",
     "start_time": "2022-07-30T15:49:55.176703Z"
    }
   },
   "outputs": [
    {
     "data": {
      "text/html": [
       "<div>\n",
       "<style scoped>\n",
       "    .dataframe tbody tr th:only-of-type {\n",
       "        vertical-align: middle;\n",
       "    }\n",
       "\n",
       "    .dataframe tbody tr th {\n",
       "        vertical-align: top;\n",
       "    }\n",
       "\n",
       "    .dataframe thead th {\n",
       "        text-align: right;\n",
       "    }\n",
       "</style>\n",
       "<table border=\"1\" class=\"dataframe\">\n",
       "  <thead>\n",
       "    <tr style=\"text-align: right;\">\n",
       "      <th></th>\n",
       "      <th>SR_NO</th>\n",
       "      <th>Engg_College</th>\n",
       "      <th>Teaching</th>\n",
       "      <th>Fees</th>\n",
       "      <th>Placements</th>\n",
       "      <th>Infrastructure</th>\n",
       "    </tr>\n",
       "  </thead>\n",
       "  <tbody>\n",
       "    <tr>\n",
       "      <th>0</th>\n",
       "      <td>1</td>\n",
       "      <td>A</td>\n",
       "      <td>5</td>\n",
       "      <td>2</td>\n",
       "      <td>5</td>\n",
       "      <td>3</td>\n",
       "    </tr>\n",
       "    <tr>\n",
       "      <th>1</th>\n",
       "      <td>2</td>\n",
       "      <td>B</td>\n",
       "      <td>4</td>\n",
       "      <td>2</td>\n",
       "      <td>5</td>\n",
       "      <td>3</td>\n",
       "    </tr>\n",
       "    <tr>\n",
       "      <th>2</th>\n",
       "      <td>3</td>\n",
       "      <td>C</td>\n",
       "      <td>4</td>\n",
       "      <td>5</td>\n",
       "      <td>5</td>\n",
       "      <td>5</td>\n",
       "    </tr>\n",
       "    <tr>\n",
       "      <th>3</th>\n",
       "      <td>4</td>\n",
       "      <td>D</td>\n",
       "      <td>5</td>\n",
       "      <td>4</td>\n",
       "      <td>5</td>\n",
       "      <td>4</td>\n",
       "    </tr>\n",
       "    <tr>\n",
       "      <th>4</th>\n",
       "      <td>5</td>\n",
       "      <td>E</td>\n",
       "      <td>2</td>\n",
       "      <td>5</td>\n",
       "      <td>2</td>\n",
       "      <td>5</td>\n",
       "    </tr>\n",
       "  </tbody>\n",
       "</table>\n",
       "</div>"
      ],
      "text/plain": [
       "   SR_NO Engg_College  Teaching  Fees  Placements  Infrastructure\n",
       "0      1            A         5     2           5               3\n",
       "1      2            B         4     2           5               3\n",
       "2      3            C         4     5           5               5\n",
       "3      4            D         5     4           5               4\n",
       "4      5            E         2     5           2               5"
      ]
     },
     "execution_count": 6,
     "metadata": {},
     "output_type": "execute_result"
    }
   ],
   "source": [
    "df.head()"
   ]
  },
  {
   "cell_type": "code",
   "execution_count": 7,
   "id": "3eb233e2",
   "metadata": {
    "ExecuteTime": {
     "end_time": "2022-07-30T15:50:14.696008Z",
     "start_time": "2022-07-30T15:50:14.691897Z"
    }
   },
   "outputs": [],
   "source": [
    "df.drop('SR_NO', axis=1, inplace=True)"
   ]
  },
  {
   "cell_type": "code",
   "execution_count": 8,
   "id": "128a31ed",
   "metadata": {
    "ExecuteTime": {
     "end_time": "2022-07-30T15:50:43.568081Z",
     "start_time": "2022-07-30T15:50:43.559268Z"
    }
   },
   "outputs": [
    {
     "data": {
      "text/html": [
       "<div>\n",
       "<style scoped>\n",
       "    .dataframe tbody tr th:only-of-type {\n",
       "        vertical-align: middle;\n",
       "    }\n",
       "\n",
       "    .dataframe tbody tr th {\n",
       "        vertical-align: top;\n",
       "    }\n",
       "\n",
       "    .dataframe thead th {\n",
       "        text-align: right;\n",
       "    }\n",
       "</style>\n",
       "<table border=\"1\" class=\"dataframe\">\n",
       "  <thead>\n",
       "    <tr style=\"text-align: right;\">\n",
       "      <th></th>\n",
       "      <th>Engg_College</th>\n",
       "      <th>Teaching</th>\n",
       "      <th>Fees</th>\n",
       "      <th>Placements</th>\n",
       "      <th>Infrastructure</th>\n",
       "    </tr>\n",
       "  </thead>\n",
       "  <tbody>\n",
       "    <tr>\n",
       "      <th>0</th>\n",
       "      <td>A</td>\n",
       "      <td>5</td>\n",
       "      <td>2</td>\n",
       "      <td>5</td>\n",
       "      <td>3</td>\n",
       "    </tr>\n",
       "    <tr>\n",
       "      <th>1</th>\n",
       "      <td>B</td>\n",
       "      <td>4</td>\n",
       "      <td>2</td>\n",
       "      <td>5</td>\n",
       "      <td>3</td>\n",
       "    </tr>\n",
       "    <tr>\n",
       "      <th>2</th>\n",
       "      <td>C</td>\n",
       "      <td>4</td>\n",
       "      <td>5</td>\n",
       "      <td>5</td>\n",
       "      <td>5</td>\n",
       "    </tr>\n",
       "    <tr>\n",
       "      <th>3</th>\n",
       "      <td>D</td>\n",
       "      <td>5</td>\n",
       "      <td>4</td>\n",
       "      <td>5</td>\n",
       "      <td>4</td>\n",
       "    </tr>\n",
       "    <tr>\n",
       "      <th>4</th>\n",
       "      <td>E</td>\n",
       "      <td>2</td>\n",
       "      <td>5</td>\n",
       "      <td>2</td>\n",
       "      <td>5</td>\n",
       "    </tr>\n",
       "  </tbody>\n",
       "</table>\n",
       "</div>"
      ],
      "text/plain": [
       "  Engg_College  Teaching  Fees  Placements  Infrastructure\n",
       "0            A         5     2           5               3\n",
       "1            B         4     2           5               3\n",
       "2            C         4     5           5               5\n",
       "3            D         5     4           5               4\n",
       "4            E         2     5           2               5"
      ]
     },
     "execution_count": 8,
     "metadata": {},
     "output_type": "execute_result"
    }
   ],
   "source": [
    "df.head()"
   ]
  },
  {
   "cell_type": "code",
   "execution_count": 9,
   "id": "dba92a13",
   "metadata": {
    "ExecuteTime": {
     "end_time": "2022-07-30T15:50:59.889412Z",
     "start_time": "2022-07-30T15:50:59.876349Z"
    }
   },
   "outputs": [
    {
     "name": "stdout",
     "output_type": "stream",
     "text": [
      "<class 'pandas.core.frame.DataFrame'>\n",
      "RangeIndex: 26 entries, 0 to 25\n",
      "Data columns (total 5 columns):\n",
      " #   Column          Non-Null Count  Dtype \n",
      "---  ------          --------------  ----- \n",
      " 0   Engg_College    26 non-null     object\n",
      " 1   Teaching        26 non-null     int64 \n",
      " 2   Fees            26 non-null     int64 \n",
      " 3   Placements      26 non-null     int64 \n",
      " 4   Infrastructure  26 non-null     int64 \n",
      "dtypes: int64(4), object(1)\n",
      "memory usage: 1.1+ KB\n"
     ]
    }
   ],
   "source": [
    "df.info()"
   ]
  },
  {
   "cell_type": "code",
   "execution_count": 10,
   "id": "e4bdf366",
   "metadata": {
    "ExecuteTime": {
     "end_time": "2022-07-30T15:52:01.919193Z",
     "start_time": "2022-07-30T15:52:01.891282Z"
    }
   },
   "outputs": [
    {
     "data": {
      "text/html": [
       "<div>\n",
       "<style scoped>\n",
       "    .dataframe tbody tr th:only-of-type {\n",
       "        vertical-align: middle;\n",
       "    }\n",
       "\n",
       "    .dataframe tbody tr th {\n",
       "        vertical-align: top;\n",
       "    }\n",
       "\n",
       "    .dataframe thead th {\n",
       "        text-align: right;\n",
       "    }\n",
       "</style>\n",
       "<table border=\"1\" class=\"dataframe\">\n",
       "  <thead>\n",
       "    <tr style=\"text-align: right;\">\n",
       "      <th></th>\n",
       "      <th>Teaching</th>\n",
       "      <th>Fees</th>\n",
       "      <th>Placements</th>\n",
       "      <th>Infrastructure</th>\n",
       "    </tr>\n",
       "  </thead>\n",
       "  <tbody>\n",
       "    <tr>\n",
       "      <th>count</th>\n",
       "      <td>26.000000</td>\n",
       "      <td>26.000000</td>\n",
       "      <td>26.000000</td>\n",
       "      <td>26.000000</td>\n",
       "    </tr>\n",
       "    <tr>\n",
       "      <th>mean</th>\n",
       "      <td>2.807692</td>\n",
       "      <td>3.576923</td>\n",
       "      <td>2.884615</td>\n",
       "      <td>3.384615</td>\n",
       "    </tr>\n",
       "    <tr>\n",
       "      <th>std</th>\n",
       "      <td>1.132051</td>\n",
       "      <td>1.331858</td>\n",
       "      <td>1.531716</td>\n",
       "      <td>1.298520</td>\n",
       "    </tr>\n",
       "    <tr>\n",
       "      <th>min</th>\n",
       "      <td>1.000000</td>\n",
       "      <td>1.000000</td>\n",
       "      <td>1.000000</td>\n",
       "      <td>1.000000</td>\n",
       "    </tr>\n",
       "    <tr>\n",
       "      <th>25%</th>\n",
       "      <td>2.000000</td>\n",
       "      <td>2.250000</td>\n",
       "      <td>1.250000</td>\n",
       "      <td>3.000000</td>\n",
       "    </tr>\n",
       "    <tr>\n",
       "      <th>50%</th>\n",
       "      <td>3.000000</td>\n",
       "      <td>4.000000</td>\n",
       "      <td>3.000000</td>\n",
       "      <td>3.000000</td>\n",
       "    </tr>\n",
       "    <tr>\n",
       "      <th>75%</th>\n",
       "      <td>3.000000</td>\n",
       "      <td>5.000000</td>\n",
       "      <td>4.000000</td>\n",
       "      <td>4.750000</td>\n",
       "    </tr>\n",
       "    <tr>\n",
       "      <th>max</th>\n",
       "      <td>5.000000</td>\n",
       "      <td>5.000000</td>\n",
       "      <td>5.000000</td>\n",
       "      <td>5.000000</td>\n",
       "    </tr>\n",
       "  </tbody>\n",
       "</table>\n",
       "</div>"
      ],
      "text/plain": [
       "        Teaching       Fees  Placements  Infrastructure\n",
       "count  26.000000  26.000000   26.000000       26.000000\n",
       "mean    2.807692   3.576923    2.884615        3.384615\n",
       "std     1.132051   1.331858    1.531716        1.298520\n",
       "min     1.000000   1.000000    1.000000        1.000000\n",
       "25%     2.000000   2.250000    1.250000        3.000000\n",
       "50%     3.000000   4.000000    3.000000        3.000000\n",
       "75%     3.000000   5.000000    4.000000        4.750000\n",
       "max     5.000000   5.000000    5.000000        5.000000"
      ]
     },
     "execution_count": 10,
     "metadata": {},
     "output_type": "execute_result"
    }
   ],
   "source": [
    "df.describe()"
   ]
  },
  {
   "cell_type": "code",
   "execution_count": 14,
   "id": "d10b8ff0",
   "metadata": {
    "ExecuteTime": {
     "end_time": "2022-07-30T15:54:49.781926Z",
     "start_time": "2022-07-30T15:54:49.775059Z"
    }
   },
   "outputs": [],
   "source": [
    "def discrete_univariate_analysis(data, feature, perc=False, n=None):\n",
    "    total = len(data[feature])\n",
    "    count = data[feature].nunique()\n",
    "    if n is None:\n",
    "        plt.figure(figsize=(count + 1, 5))\n",
    "    else:\n",
    "        plt.figure(figsize=(n + 1, 5))\n",
    "    plt.xticks(rotation=90, fontsize=15)\n",
    "    ax = sns.countplot(\n",
    "        data=data,\n",
    "        x=feature,\n",
    "        palette=\"flare\",\n",
    "        order=data[feature].value_counts().index[:n].sort_values(ascending=False))\n",
    "    for p in ax.patches:\n",
    "        if perc == True:\n",
    "            label = \"{:.1f}%\".format(100 * p.get_height() / total)\n",
    "        else:\n",
    "            label = p.get_height()\n",
    "        x = p.get_x() + p.get_width() / 2\n",
    "        y = p.get_height()\n",
    "        ax.annotate(label, (x, y),\n",
    "                    ha=\"center\",\n",
    "                    va=\"center\",\n",
    "                    size=12,\n",
    "                    xytext=(0, 5),\n",
    "                    textcoords=\"offset points\")\n",
    "    plt.show()"
   ]
  },
  {
   "cell_type": "code",
   "execution_count": 16,
   "id": "469a077b",
   "metadata": {
    "ExecuteTime": {
     "end_time": "2022-07-30T15:55:08.382306Z",
     "start_time": "2022-07-30T15:55:07.790005Z"
    }
   },
   "outputs": [
    {
     "data": {
      "image/png": "[encoded data removed]",
      "text/plain": [
       "<Figure size 432x360 with 1 Axes>"
      ]
     },
     "metadata": {
      "needs_background": "light"
     },
     "output_type": "display_data"
    },
    {
     "data": {
      "image/png": "[encoded data removed]",
      "text/plain": [
       "<Figure size 432x360 with 1 Axes>"
      ]
     },
     "metadata": {
      "needs_background": "light"
     },
     "output_type": "display_data"
    },
    {
     "data": {
      "image/png": "[encoded data removed]",
      "text/plain": [
       "<Figure size 432x360 with 1 Axes>"
      ]
     },
     "metadata": {
      "needs_background": "light"
     },
     "output_type": "display_data"
    },
    {
     "data": {
      "image/png": "[encoded data removed]",
      "text/plain": [
       "<Figure size 432x360 with 1 Axes>"
      ]
     },
     "metadata": {
      "needs_background": "light"
     },
     "output_type": "display_data"
    }
   ],
   "source": [
    "num_cols = df.select_dtypes(include=np.number).columns.tolist()\n",
    "for item in num_cols:\n",
    "    discrete_univariate_analysis(df,item, perc = True)"
   ]
  },
  {
   "cell_type": "markdown",
   "id": "38252163",
   "metadata": {
    "ExecuteTime": {
     "end_time": "2022-07-30T16:00:48.677111Z",
     "start_time": "2022-07-30T16:00:48.669649Z"
    }
   },
   "source": [
    "## Observation \n",
    "1. More than 60% of the colleges are providing avg placement with Rate of 3 \n",
    "2. More than 80% of the colleges are providing avg Infrastructure with Rate of 3\n",
    "3. More than 65% colleges are having high fees with rating of 4- 5 \n"
   ]
  },
  {
   "cell_type": "markdown",
   "id": "89886a43",
   "metadata": {},
   "source": [
    "## Bivariate Analysis"
   ]
  },
  {
   "cell_type": "markdown",
   "id": "b05e1cc7",
   "metadata": {},
   "source": [
    "**correlation Analysis**"
   ]
  },
  {
   "cell_type": "code",
   "execution_count": 21,
   "id": "95891a97",
   "metadata": {
    "ExecuteTime": {
     "end_time": "2022-07-30T16:08:09.132403Z",
     "start_time": "2022-07-30T16:08:08.840127Z"
    }
   },
   "outputs": [
    {
     "data": {
      "image/png": "[encoded data removed]",
      "text/plain": [
       "<Figure size 720x504 with 2 Axes>"
      ]
     },
     "metadata": {
      "needs_background": "light"
     },
     "output_type": "display_data"
    }
   ],
   "source": [
    "plt.figure(figsize=(10, 7))\n",
    "sns.heatmap(df.corr(), annot=True, vmin=-1, vmax=1, fmt=\".2f\", cmap=\"Spectral\")\n",
    "plt.title(\"Correlation Analysis\")\n",
    "plt.show()\n"
   ]
  },
  {
   "cell_type": "markdown",
   "id": "d1922476",
   "metadata": {},
   "source": [
    "## Observation \n",
    "\n",
    "1. Rating and Teaching is highly correlated \n",
    "2. High quality of Teaching leads to high qulaity of **Placement** "
   ]
  },
  {
   "cell_type": "code",
   "execution_count": null,
   "id": "36aeb5ac",
   "metadata": {},
   "outputs": [],
   "source": [
    "salary == 20,000 euros to 70,000 euro === 0 to 1\n",
    "\n",
    "age == 18 yrs to 60 yrs ===== 0 to 1 \n"
   ]
  },
  {
   "cell_type": "code",
   "execution_count": 22,
   "id": "7c3b9136",
   "metadata": {
    "ExecuteTime": {
     "end_time": "2022-07-30T16:15:23.786367Z",
     "start_time": "2022-07-30T16:15:23.776759Z"
    }
   },
   "outputs": [
    {
     "data": {
      "text/html": [
       "<div>\n",
       "<style scoped>\n",
       "    .dataframe tbody tr th:only-of-type {\n",
       "        vertical-align: middle;\n",
       "    }\n",
       "\n",
       "    .dataframe tbody tr th {\n",
       "        vertical-align: top;\n",
       "    }\n",
       "\n",
       "    .dataframe thead th {\n",
       "        text-align: right;\n",
       "    }\n",
       "</style>\n",
       "<table border=\"1\" class=\"dataframe\">\n",
       "  <thead>\n",
       "    <tr style=\"text-align: right;\">\n",
       "      <th></th>\n",
       "      <th>Engg_College</th>\n",
       "      <th>Teaching</th>\n",
       "      <th>Fees</th>\n",
       "      <th>Placements</th>\n",
       "      <th>Infrastructure</th>\n",
       "    </tr>\n",
       "  </thead>\n",
       "  <tbody>\n",
       "    <tr>\n",
       "      <th>0</th>\n",
       "      <td>A</td>\n",
       "      <td>5</td>\n",
       "      <td>2</td>\n",
       "      <td>5</td>\n",
       "      <td>3</td>\n",
       "    </tr>\n",
       "    <tr>\n",
       "      <th>1</th>\n",
       "      <td>B</td>\n",
       "      <td>4</td>\n",
       "      <td>2</td>\n",
       "      <td>5</td>\n",
       "      <td>3</td>\n",
       "    </tr>\n",
       "    <tr>\n",
       "      <th>2</th>\n",
       "      <td>C</td>\n",
       "      <td>4</td>\n",
       "      <td>5</td>\n",
       "      <td>5</td>\n",
       "      <td>5</td>\n",
       "    </tr>\n",
       "    <tr>\n",
       "      <th>3</th>\n",
       "      <td>D</td>\n",
       "      <td>5</td>\n",
       "      <td>4</td>\n",
       "      <td>5</td>\n",
       "      <td>4</td>\n",
       "    </tr>\n",
       "    <tr>\n",
       "      <th>4</th>\n",
       "      <td>E</td>\n",
       "      <td>2</td>\n",
       "      <td>5</td>\n",
       "      <td>2</td>\n",
       "      <td>5</td>\n",
       "    </tr>\n",
       "  </tbody>\n",
       "</table>\n",
       "</div>"
      ],
      "text/plain": [
       "  Engg_College  Teaching  Fees  Placements  Infrastructure\n",
       "0            A         5     2           5               3\n",
       "1            B         4     2           5               3\n",
       "2            C         4     5           5               5\n",
       "3            D         5     4           5               4\n",
       "4            E         2     5           2               5"
      ]
     },
     "execution_count": 22,
     "metadata": {},
     "output_type": "execute_result"
    }
   ],
   "source": [
    "df.head()"
   ]
  },
  {
   "cell_type": "code",
   "execution_count": 24,
   "id": "ac82dc33",
   "metadata": {
    "ExecuteTime": {
     "end_time": "2022-07-30T16:15:53.450813Z",
     "start_time": "2022-07-30T16:15:53.445336Z"
    }
   },
   "outputs": [],
   "source": [
    "df.drop(columns=['Engg_College'], inplace=True)"
   ]
  },
  {
   "cell_type": "code",
   "execution_count": 25,
   "id": "e2fa0c58",
   "metadata": {
    "ExecuteTime": {
     "end_time": "2022-07-30T16:16:00.410639Z",
     "start_time": "2022-07-30T16:16:00.405581Z"
    }
   },
   "outputs": [
    {
     "data": {
      "text/plain": [
       "Index(['Teaching', 'Fees', 'Placements', 'Infrastructure'], dtype='object')"
      ]
     },
     "execution_count": 25,
     "metadata": {},
     "output_type": "execute_result"
    }
   ],
   "source": [
    "df.columns"
   ]
  },
  {
   "cell_type": "code",
   "execution_count": 34,
   "id": "f6d6982d",
   "metadata": {
    "ExecuteTime": {
     "end_time": "2022-07-30T16:24:16.617279Z",
     "start_time": "2022-07-30T16:24:16.216646Z"
    }
   },
   "outputs": [
    {
     "name": "stdout",
     "output_type": "stream",
     "text": [
      "number of clusters 1 \tAverageDistortion: 2.445161236901436\n",
      "number of clusters 2 \tAverageDistortion: 1.8386954425352884\n",
      "number of clusters 3 \tAverageDistortion: 1.5663251587239047\n",
      "number of clusters 4 \tAverageDistortion: 1.319866756300917\n",
      "number of clusters 5 \tAverageDistortion: 1.1752753661439113\n",
      "number of clusters 6 \tAverageDistortion: 1.0295335832815407\n",
      "number of clusters 7 \tAverageDistortion: 0.8898446858367483\n",
      "number of clusters 8 \tAverageDistortion: 0.7621339337671245\n",
      "number of clusters 9 \tAverageDistortion: 0.6847046905796431\n"
     ]
    },
    {
     "data": {
      "text/plain": [
       "Text(0.5, 1.0, 'selecting K with Elbow Method')"
      ]
     },
     "execution_count": 34,
     "metadata": {},
     "output_type": "execute_result"
    },
    {
     "data": {
      "image/png": "[encoded data removed]",
      "text/plain": [
       "<Figure size 576x396 with 1 Axes>"
      ]
     },
     "metadata": {},
     "output_type": "display_data"
    }
   ],
   "source": [
    "clusters = range(1, 10)\n",
    "meanDistortions = []\n",
    "\n",
    "for k in clusters:\n",
    "    model = KMeans(n_clusters = k)\n",
    "    model.fit(df)\n",
    "    prediction  = model.predict(df)\n",
    "    distortion =  (\n",
    "        sum(\n",
    "            np.min(cdist(df, model.cluster_centers_, 'euclidean'),\n",
    "                   axis=1)) / df.shape[0])\n",
    "    meanDistortions.append(distortion)\n",
    "    print(\"number of clusters\", k, \"\\tAverageDistortion:\", distortion)\n",
    "plt.plot(clusters, meanDistortions, 'bx--')\n",
    "plt.xlabel(\"k\")\n",
    "plt.ylabel(\"Average Distortion\")\n",
    "plt.title(\"selecting K with Elbow Method\", fontsize=20)"
   ]
  },
  {
   "cell_type": "markdown",
   "id": "d8b22b6a",
   "metadata": {},
   "source": [
    "## Silhouette Score \n",
    "\n",
    "how similar two clusters are.\n",
    "1. Measuring the cohesion between two clusters \n",
    "2. Silhouette score will range between -1 to 1\n",
    "     1. Silhouette score of +1 indicates that sample far away from neighbour cluster s\n",
    "     2. Silhouette score of -1 indicates that those samples might be assigned to wrong clusters "
   ]
  },
  {
   "cell_type": "code",
   "execution_count": 35,
   "id": "5382f57a",
   "metadata": {
    "ExecuteTime": {
     "end_time": "2022-07-30T16:45:34.785453Z",
     "start_time": "2022-07-30T16:45:34.448561Z"
    }
   },
   "outputs": [
    {
     "name": "stdout",
     "output_type": "stream",
     "text": [
      "For nm_clusters = 2, Silhouette_Score is 0.38121701144257797\n",
      "For nm_clusters = 3, Silhouette_Score is 0.4288415910208104\n",
      "For nm_clusters = 4, Silhouette_Score is 0.36154656907517135\n",
      "For nm_clusters = 5, Silhouette_Score is 0.36463929699597486\n",
      "For nm_clusters = 6, Silhouette_Score is 0.38242794677049674\n",
      "For nm_clusters = 7, Silhouette_Score is 0.4213389680738873\n",
      "For nm_clusters = 8, Silhouette_Score is 0.45545926155854705\n",
      "For nm_clusters = 9, Silhouette_Score is 0.4312323711864557\n"
     ]
    },
    {
     "data": {
      "text/plain": [
       "[<matplotlib.lines.Line2D at 0x7fcd5c978af0>]"
      ]
     },
     "execution_count": 35,
     "metadata": {},
     "output_type": "execute_result"
    },
    {
     "data": {
      "image/png": "[encoded data removed]",
      "text/plain": [
       "<Figure size 576x396 with 1 Axes>"
      ]
     },
     "metadata": {},
     "output_type": "display_data"
    }
   ],
   "source": [
    "sil_score = list()\n",
    "cluster_list = list(range(2, 10))\n",
    "for n_clusters in cluster_list:\n",
    "    cluster_vals = KMeans(n_clusters = n_clusters)\n",
    "    preds = cluster_vals.fit_predict((df))\n",
    "    score  =  silhouette_score(df, preds)\n",
    "    sil_score.append(score)\n",
    "    print(\"For nm_clusters = {}, Silhouette_Score is {}\".format(n_clusters, score))\n",
    "plt.plot(cluster_list, sil_score)"
   ]
  },
  {
   "cell_type": "markdown",
   "id": "a15c6e19",
   "metadata": {},
   "source": [
    "## Observation :\n",
    "\n",
    "At silhouette k== 8, we get to see high values of difference , so lets investigate"
   ]
  },
  {
   "cell_type": "markdown",
   "id": "0d69b39a",
   "metadata": {},
   "source": [
    "## Silhouette Visualizer \n",
    "\n",
    "**How to read silhouette visualizer**\n",
    "\n",
    "1. Width of each cluster refers to the size of each clusters\n",
    "2. Horizontal line refers to the coefficient values of silhouette score\n",
    "3. Dotted red is avg silhouette score\n",
    "\n",
    "**Rules to be followed** \n",
    "1. No Negative coefficients to be used \n",
    "2. All the clusters should cross avergae silhouette score \n",
    "3. All the clusters should not have same width \n",
    "4. All the clusters should have different silhouette score "
   ]
  },
  {
   "cell_type": "code",
   "execution_count": 36,
   "id": "435f3dfa",
   "metadata": {
    "ExecuteTime": {
     "end_time": "2022-07-30T16:50:40.883582Z",
     "start_time": "2022-07-30T16:50:40.627716Z"
    }
   },
   "outputs": [
    {
     "data": {
      "image/png": "[encoded data removed]",
      "text/plain": [
       "<Figure size 576x396 with 1 Axes>"
      ]
     },
     "metadata": {},
     "output_type": "display_data"
    },
    {
     "data": {
      "text/plain": [
       "<AxesSubplot:title={'center':'Silhouette Plot of KMeans Clustering for 26 Samples in 8 Centers'}, xlabel='silhouette coefficient values', ylabel='cluster label'>"
      ]
     },
     "execution_count": 36,
     "metadata": {},
     "output_type": "execute_result"
    }
   ],
   "source": [
    "visualizer = SilhouetteVisualizer(KMeans(8, random_state=1))\n",
    "visualizer.fit(df)\n",
    "visualizer.show()"
   ]
  },
  {
   "cell_type": "code",
   "execution_count": 37,
   "id": "d7259a57",
   "metadata": {
    "ExecuteTime": {
     "end_time": "2022-07-30T16:56:19.501084Z",
     "start_time": "2022-07-30T16:56:19.292109Z"
    }
   },
   "outputs": [
    {
     "data": {
      "image/png": "[encoded data removed]",
      "text/plain": [
       "<Figure size 576x396 with 1 Axes>"
      ]
     },
     "metadata": {},
     "output_type": "display_data"
    },
    {
     "data": {
      "text/plain": [
       "<AxesSubplot:title={'center':'Silhouette Plot of KMeans Clustering for 26 Samples in 4 Centers'}, xlabel='silhouette coefficient values', ylabel='cluster label'>"
      ]
     },
     "execution_count": 37,
     "metadata": {},
     "output_type": "execute_result"
    }
   ],
   "source": [
    "visualizer = SilhouetteVisualizer(KMeans(4, random_state=1))\n",
    "visualizer.fit(df)\n",
    "visualizer.show()"
   ]
  },
  {
   "cell_type": "code",
   "execution_count": 38,
   "id": "19910844",
   "metadata": {
    "ExecuteTime": {
     "end_time": "2022-07-30T16:57:12.048913Z",
     "start_time": "2022-07-30T16:57:11.780691Z"
    }
   },
   "outputs": [
    {
     "data": {
      "image/png": "[encoded data removed]",
      "text/plain": [
       "<Figure size 576x396 with 1 Axes>"
      ]
     },
     "metadata": {},
     "output_type": "display_data"
    },
    {
     "data": {
      "text/plain": [
       "<AxesSubplot:title={'center':'Silhouette Plot of KMeans Clustering for 26 Samples in 5 Centers'}, xlabel='silhouette coefficient values', ylabel='cluster label'>"
      ]
     },
     "execution_count": 38,
     "metadata": {},
     "output_type": "execute_result"
    }
   ],
   "source": [
    "visualizer = SilhouetteVisualizer(KMeans(5, random_state=1))\n",
    "visualizer.fit(df)\n",
    "visualizer.show()"
   ]
  },
  {
   "cell_type": "code",
   "execution_count": 39,
   "id": "5595413e",
   "metadata": {
    "ExecuteTime": {
     "end_time": "2022-07-30T16:57:48.433796Z",
     "start_time": "2022-07-30T16:57:48.192199Z"
    }
   },
   "outputs": [
    {
     "data": {
      "image/png": "[encoded data removed]",
      "text/plain": [
       "<Figure size 576x396 with 1 Axes>"
      ]
     },
     "metadata": {},
     "output_type": "display_data"
    },
    {
     "data": {
      "text/plain": [
       "<AxesSubplot:title={'center':'Silhouette Plot of KMeans Clustering for 26 Samples in 3 Centers'}, xlabel='silhouette coefficient values', ylabel='cluster label'>"
      ]
     },
     "execution_count": 39,
     "metadata": {},
     "output_type": "execute_result"
    }
   ],
   "source": [
    "visualizer = SilhouetteVisualizer(KMeans(3, random_state=1))\n",
    "visualizer.fit(df)\n",
    "visualizer.show()"
   ]
  },
  {
   "cell_type": "code",
   "execution_count": 40,
   "id": "0574bb02",
   "metadata": {
    "ExecuteTime": {
     "end_time": "2022-07-30T16:58:28.502250Z",
     "start_time": "2022-07-30T16:58:28.311352Z"
    }
   },
   "outputs": [
    {
     "data": {
      "image/png": "[encoded data removed]",
      "text/plain": [
       "<Figure size 576x396 with 1 Axes>"
      ]
     },
     "metadata": {},
     "output_type": "display_data"
    },
    {
     "data": {
      "text/plain": [
       "<AxesSubplot:title={'center':'Silhouette Plot of KMeans Clustering for 26 Samples in 2 Centers'}, xlabel='silhouette coefficient values', ylabel='cluster label'>"
      ]
     },
     "execution_count": 40,
     "metadata": {},
     "output_type": "execute_result"
    }
   ],
   "source": [
    "visualizer = SilhouetteVisualizer(KMeans(2, random_state=1))\n",
    "visualizer.fit(df)\n",
    "visualizer.show()"
   ]
  },
  {
   "cell_type": "code",
   "execution_count": 41,
   "id": "a980cd84",
   "metadata": {
    "ExecuteTime": {
     "end_time": "2022-07-30T17:02:57.825695Z",
     "start_time": "2022-07-30T17:02:57.794286Z"
    }
   },
   "outputs": [
    {
     "data": {
      "text/plain": [
       "KMeans(n_clusters=2, random_state=0)"
      ]
     },
     "execution_count": 41,
     "metadata": {},
     "output_type": "execute_result"
    }
   ],
   "source": [
    "kmeans = KMeans(n_clusters=2, random_state=0)\n",
    "kmeans.fit(df)"
   ]
  },
  {
   "cell_type": "code",
   "execution_count": 42,
   "id": "15f7d9b8",
   "metadata": {
    "ExecuteTime": {
     "end_time": "2022-07-30T17:03:41.628430Z",
     "start_time": "2022-07-30T17:03:41.624177Z"
    }
   },
   "outputs": [],
   "source": [
    "df['K Means Segment'] = kmeans.labels_\n"
   ]
  },
  {
   "cell_type": "code",
   "execution_count": 43,
   "id": "c50ae6fc",
   "metadata": {
    "ExecuteTime": {
     "end_time": "2022-07-30T17:03:48.857774Z",
     "start_time": "2022-07-30T17:03:48.846764Z"
    }
   },
   "outputs": [
    {
     "data": {
      "text/html": [
       "<div>\n",
       "<style scoped>\n",
       "    .dataframe tbody tr th:only-of-type {\n",
       "        vertical-align: middle;\n",
       "    }\n",
       "\n",
       "    .dataframe tbody tr th {\n",
       "        vertical-align: top;\n",
       "    }\n",
       "\n",
       "    .dataframe thead th {\n",
       "        text-align: right;\n",
       "    }\n",
       "</style>\n",
       "<table border=\"1\" class=\"dataframe\">\n",
       "  <thead>\n",
       "    <tr style=\"text-align: right;\">\n",
       "      <th></th>\n",
       "      <th>Teaching</th>\n",
       "      <th>Fees</th>\n",
       "      <th>Placements</th>\n",
       "      <th>Infrastructure</th>\n",
       "      <th>K Means Segment</th>\n",
       "    </tr>\n",
       "  </thead>\n",
       "  <tbody>\n",
       "    <tr>\n",
       "      <th>0</th>\n",
       "      <td>5</td>\n",
       "      <td>2</td>\n",
       "      <td>5</td>\n",
       "      <td>3</td>\n",
       "      <td>1</td>\n",
       "    </tr>\n",
       "    <tr>\n",
       "      <th>1</th>\n",
       "      <td>4</td>\n",
       "      <td>2</td>\n",
       "      <td>5</td>\n",
       "      <td>3</td>\n",
       "      <td>1</td>\n",
       "    </tr>\n",
       "    <tr>\n",
       "      <th>2</th>\n",
       "      <td>4</td>\n",
       "      <td>5</td>\n",
       "      <td>5</td>\n",
       "      <td>5</td>\n",
       "      <td>1</td>\n",
       "    </tr>\n",
       "    <tr>\n",
       "      <th>3</th>\n",
       "      <td>5</td>\n",
       "      <td>4</td>\n",
       "      <td>5</td>\n",
       "      <td>4</td>\n",
       "      <td>1</td>\n",
       "    </tr>\n",
       "    <tr>\n",
       "      <th>4</th>\n",
       "      <td>2</td>\n",
       "      <td>5</td>\n",
       "      <td>2</td>\n",
       "      <td>5</td>\n",
       "      <td>1</td>\n",
       "    </tr>\n",
       "  </tbody>\n",
       "</table>\n",
       "</div>"
      ],
      "text/plain": [
       "   Teaching  Fees  Placements  Infrastructure  K Means Segment\n",
       "0         5     2           5               3                1\n",
       "1         4     2           5               3                1\n",
       "2         4     5           5               5                1\n",
       "3         5     4           5               4                1\n",
       "4         2     5           2               5                1"
      ]
     },
     "execution_count": 43,
     "metadata": {},
     "output_type": "execute_result"
    }
   ],
   "source": [
    "df.head()"
   ]
  },
  {
   "cell_type": "code",
   "execution_count": 45,
   "id": "8a5c2a50",
   "metadata": {
    "ExecuteTime": {
     "end_time": "2022-07-30T17:05:50.496266Z",
     "start_time": "2022-07-30T17:05:50.489812Z"
    }
   },
   "outputs": [],
   "source": [
    "cluster_info = df.groupby(['K Means Segment']).mean()\n"
   ]
  },
  {
   "cell_type": "code",
   "execution_count": 46,
   "id": "f0195735",
   "metadata": {
    "ExecuteTime": {
     "end_time": "2022-07-30T17:06:03.000145Z",
     "start_time": "2022-07-30T17:06:02.991400Z"
    }
   },
   "outputs": [
    {
     "data": {
      "text/html": [
       "<div>\n",
       "<style scoped>\n",
       "    .dataframe tbody tr th:only-of-type {\n",
       "        vertical-align: middle;\n",
       "    }\n",
       "\n",
       "    .dataframe tbody tr th {\n",
       "        vertical-align: top;\n",
       "    }\n",
       "\n",
       "    .dataframe thead th {\n",
       "        text-align: right;\n",
       "    }\n",
       "</style>\n",
       "<table border=\"1\" class=\"dataframe\">\n",
       "  <thead>\n",
       "    <tr style=\"text-align: right;\">\n",
       "      <th></th>\n",
       "      <th>Teaching</th>\n",
       "      <th>Fees</th>\n",
       "      <th>Placements</th>\n",
       "      <th>Infrastructure</th>\n",
       "    </tr>\n",
       "    <tr>\n",
       "      <th>K Means Segment</th>\n",
       "      <th></th>\n",
       "      <th></th>\n",
       "      <th></th>\n",
       "      <th></th>\n",
       "    </tr>\n",
       "  </thead>\n",
       "  <tbody>\n",
       "    <tr>\n",
       "      <th>0</th>\n",
       "      <td>1.900</td>\n",
       "      <td>2.700</td>\n",
       "      <td>1.300</td>\n",
       "      <td>2.600</td>\n",
       "    </tr>\n",
       "    <tr>\n",
       "      <th>1</th>\n",
       "      <td>3.375</td>\n",
       "      <td>4.125</td>\n",
       "      <td>3.875</td>\n",
       "      <td>3.875</td>\n",
       "    </tr>\n",
       "  </tbody>\n",
       "</table>\n",
       "</div>"
      ],
      "text/plain": [
       "                 Teaching   Fees  Placements  Infrastructure\n",
       "K Means Segment                                             \n",
       "0                   1.900  2.700       1.300           2.600\n",
       "1                   3.375  4.125       3.875           3.875"
      ]
     },
     "execution_count": 46,
     "metadata": {},
     "output_type": "execute_result"
    }
   ],
   "source": [
    "cluster_info.head()"
   ]
  },
  {
   "cell_type": "code",
   "execution_count": 47,
   "id": "39090b91",
   "metadata": {
    "ExecuteTime": {
     "end_time": "2022-07-30T17:07:37.082048Z",
     "start_time": "2022-07-30T17:07:37.076800Z"
    }
   },
   "outputs": [],
   "source": [
    "cluster_info[\"count in each segment\"] = (df.groupby(\"K Means Segment\")['Fees'].count().values)"
   ]
  },
  {
   "cell_type": "code",
   "execution_count": 48,
   "id": "e6acdff4",
   "metadata": {
    "ExecuteTime": {
     "end_time": "2022-07-30T17:08:05.306041Z",
     "start_time": "2022-07-30T17:08:05.295919Z"
    }
   },
   "outputs": [
    {
     "data": {
      "text/html": [
       "<div>\n",
       "<style scoped>\n",
       "    .dataframe tbody tr th:only-of-type {\n",
       "        vertical-align: middle;\n",
       "    }\n",
       "\n",
       "    .dataframe tbody tr th {\n",
       "        vertical-align: top;\n",
       "    }\n",
       "\n",
       "    .dataframe thead th {\n",
       "        text-align: right;\n",
       "    }\n",
       "</style>\n",
       "<table border=\"1\" class=\"dataframe\">\n",
       "  <thead>\n",
       "    <tr style=\"text-align: right;\">\n",
       "      <th></th>\n",
       "      <th>Teaching</th>\n",
       "      <th>Fees</th>\n",
       "      <th>Placements</th>\n",
       "      <th>Infrastructure</th>\n",
       "      <th>count in each segment</th>\n",
       "    </tr>\n",
       "    <tr>\n",
       "      <th>K Means Segment</th>\n",
       "      <th></th>\n",
       "      <th></th>\n",
       "      <th></th>\n",
       "      <th></th>\n",
       "      <th></th>\n",
       "    </tr>\n",
       "  </thead>\n",
       "  <tbody>\n",
       "    <tr>\n",
       "      <th>0</th>\n",
       "      <td>1.900</td>\n",
       "      <td>2.700</td>\n",
       "      <td>1.300</td>\n",
       "      <td>2.600</td>\n",
       "      <td>10</td>\n",
       "    </tr>\n",
       "    <tr>\n",
       "      <th>1</th>\n",
       "      <td>3.375</td>\n",
       "      <td>4.125</td>\n",
       "      <td>3.875</td>\n",
       "      <td>3.875</td>\n",
       "      <td>16</td>\n",
       "    </tr>\n",
       "  </tbody>\n",
       "</table>\n",
       "</div>"
      ],
      "text/plain": [
       "                 Teaching   Fees  Placements  Infrastructure  \\\n",
       "K Means Segment                                                \n",
       "0                   1.900  2.700       1.300           2.600   \n",
       "1                   3.375  4.125       3.875           3.875   \n",
       "\n",
       "                 count in each segment  \n",
       "K Means Segment                         \n",
       "0                                   10  \n",
       "1                                   16  "
      ]
     },
     "execution_count": 48,
     "metadata": {},
     "output_type": "execute_result"
    }
   ],
   "source": [
    "cluster_info.head()"
   ]
  },
  {
   "cell_type": "code",
   "execution_count": 53,
   "id": "c36fd82a",
   "metadata": {
    "ExecuteTime": {
     "end_time": "2022-07-30T17:13:24.074076Z",
     "start_time": "2022-07-30T17:13:23.634233Z"
    }
   },
   "outputs": [
    {
     "data": {
      "image/png": "[encoded data removed]",
      "text/plain": [
       "<Figure size 1152x432 with 4 Axes>"
      ]
     },
     "metadata": {},
     "output_type": "display_data"
    }
   ],
   "source": [
    "fig, axes = plt.subplots(1, 4, figsize=(16,6))\n",
    "fig.suptitle(\"** Boxplot of cluster features **\")\n",
    "counter=0 \n",
    "for i in range(4):\n",
    "    sns.boxplot(ax=axes[i], y = df[num_cols[counter]], x = df[\"K Means Segment\"])\n",
    "    counter = counter+1\n",
    "fig.tight_layout(pad=2.0)"
   ]
  },
  {
   "cell_type": "code",
   "execution_count": 54,
   "id": "14b1564a",
   "metadata": {
    "ExecuteTime": {
     "end_time": "2022-07-30T17:14:35.899547Z",
     "start_time": "2022-07-30T17:14:35.692557Z"
    }
   },
   "outputs": [
    {
     "data": {
      "text/plain": [
       "<AxesSubplot:xlabel='K Means Segment'>"
      ]
     },
     "execution_count": 54,
     "metadata": {},
     "output_type": "execute_result"
    },
    {
     "data": {
      "image/png": "[encoded data removed]",
      "text/plain": [
       "<Figure size 1080x504 with 1 Axes>"
      ]
     },
     "metadata": {},
     "output_type": "display_data"
    }
   ],
   "source": [
    "df.groupby(\"K Means Segment\").mean().plot.bar(figsize=(15,7))"
   ]
  },
  {
   "cell_type": "markdown",
   "id": "bc143212",
   "metadata": {},
   "source": [
    "## Conclusion:\n",
    "\n",
    "**cluster-1** : Tier 1 colleges with high quality fo Teaching and higher fees and very good placement and infrastructure \n",
    "\n",
    "**cluster-0** : Tier2 and Tier 3 colleges with poor teaching and poor placement as well as infra. It also has lower fees"
   ]
  },
  {
   "cell_type": "code",
   "execution_count": null,
   "id": "3510c704",
   "metadata": {},
   "outputs": [],
   "source": []
  }
 ],
 "metadata": {
  "kernelspec": {
   "display_name": "Python 3 (ipykernel)",
   "language": "python",
   "name": "python3"
  },
  "language_info": {
   "codemirror_mode": {
    "name": "ipython",
    "version": 3
   },
   "file_extension": ".py",
   "mimetype": "text/x-python",
   "name": "python",
   "nbconvert_exporter": "python",
   "pygments_lexer": "ipython3",
   "version": "3.8.8"
  }
 },
 "nbformat": 4,
 "nbformat_minor": 5
}
