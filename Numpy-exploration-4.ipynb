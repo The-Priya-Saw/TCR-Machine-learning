{
 "cells": [
  {
   "cell_type": "code",
   "execution_count": null,
   "id": "986cafb1",
   "metadata": {},
   "outputs": [],
   "source": [
    "!pip install --user numpy"
   ]
  },
  {
   "cell_type": "code",
   "execution_count": 1,
   "id": "7ce36864",
   "metadata": {
    "ExecuteTime": {
     "end_time": "2022-07-12T15:37:06.101267Z",
     "start_time": "2022-07-12T15:37:05.755930Z"
    }
   },
   "outputs": [],
   "source": [
    "import numpy as np \n"
   ]
  },
  {
   "cell_type": "code",
   "execution_count": 2,
   "id": "0c9d3dcf",
   "metadata": {
    "ExecuteTime": {
     "end_time": "2022-07-12T15:38:34.081229Z",
     "start_time": "2022-07-12T15:38:34.070269Z"
    }
   },
   "outputs": [
    {
     "name": "stdout",
     "output_type": "stream",
     "text": [
      "[1 2 3 4]\n"
     ]
    }
   ],
   "source": [
    "arr = np.array([1,2,3,4])\n",
    "print(arr)\n"
   ]
  },
  {
   "cell_type": "code",
   "execution_count": 3,
   "id": "e6f0f467",
   "metadata": {
    "ExecuteTime": {
     "end_time": "2022-07-12T15:38:45.014049Z",
     "start_time": "2022-07-12T15:38:45.007612Z"
    }
   },
   "outputs": [
    {
     "name": "stdout",
     "output_type": "stream",
     "text": [
      "(4,)\n"
     ]
    }
   ],
   "source": [
    "print(arr.shape)"
   ]
  },
  {
   "cell_type": "code",
   "execution_count": 5,
   "id": "587495fe",
   "metadata": {
    "ExecuteTime": {
     "end_time": "2022-07-12T15:39:58.751477Z",
     "start_time": "2022-07-12T15:39:58.747244Z"
    }
   },
   "outputs": [
    {
     "name": "stdout",
     "output_type": "stream",
     "text": [
      "Dimension_of the array : 1\n"
     ]
    }
   ],
   "source": [
    "print(\"Dimension_of the array :\", arr.ndim)"
   ]
  },
  {
   "cell_type": "code",
   "execution_count": 6,
   "id": "b9d99c33",
   "metadata": {
    "ExecuteTime": {
     "end_time": "2022-07-12T15:40:18.632178Z",
     "start_time": "2022-07-12T15:40:18.626173Z"
    }
   },
   "outputs": [
    {
     "name": "stdout",
     "output_type": "stream",
     "text": [
      "Size of the array : 4\n"
     ]
    }
   ],
   "source": [
    "print(\"Size of the array :\", arr.size)"
   ]
  },
  {
   "cell_type": "code",
   "execution_count": 7,
   "id": "f8182470",
   "metadata": {
    "ExecuteTime": {
     "end_time": "2022-07-12T15:41:08.535083Z",
     "start_time": "2022-07-12T15:41:08.528170Z"
    }
   },
   "outputs": [
    {
     "name": "stdout",
     "output_type": "stream",
     "text": [
      "Data Type int64\n"
     ]
    }
   ],
   "source": [
    "print(\"Data Type\", arr.dtype)"
   ]
  },
  {
   "cell_type": "code",
   "execution_count": 8,
   "id": "8fba26a9",
   "metadata": {
    "ExecuteTime": {
     "end_time": "2022-07-12T15:41:34.049201Z",
     "start_time": "2022-07-12T15:41:34.043889Z"
    }
   },
   "outputs": [
    {
     "name": "stdout",
     "output_type": "stream",
     "text": [
      "<class 'numpy.ndarray'>\n"
     ]
    }
   ],
   "source": [
    "print(type(arr))"
   ]
  },
  {
   "cell_type": "code",
   "execution_count": 12,
   "id": "b02a299a",
   "metadata": {
    "ExecuteTime": {
     "end_time": "2022-07-12T15:44:15.908453Z",
     "start_time": "2022-07-12T15:44:15.898243Z"
    }
   },
   "outputs": [
    {
     "name": "stdout",
     "output_type": "stream",
     "text": [
      "Dimension : 2\n",
      "Shape of the array :  (2, 3)\n",
      "**************************************************\n",
      "[[1 2 3]\n",
      " [3 4 5]]\n"
     ]
    }
   ],
   "source": [
    "arr = np.array([[1,2,3], [3,4,5]])\n",
    "print(\"Dimension :\", arr.ndim)\n",
    "print(\"Shape of the array : \", arr.shape)\n",
    "print(\"*\"*50)\n",
    "print(arr)"
   ]
  },
  {
   "cell_type": "code",
   "execution_count": 17,
   "id": "2d419617",
   "metadata": {
    "ExecuteTime": {
     "end_time": "2022-07-12T15:51:25.535750Z",
     "start_time": "2022-07-12T15:51:25.528967Z"
    }
   },
   "outputs": [
    {
     "name": "stdout",
     "output_type": "stream",
     "text": [
      "Dimension : 3\n",
      "Shape of the array :  (2, 2, 3)\n",
      "**************************************************\n",
      "[[[1 2 3]\n",
      "  [3 4 5]]\n",
      "\n",
      " [[1 2 3]\n",
      "  [3 4 5]]]\n"
     ]
    }
   ],
   "source": [
    "arr = np.array([[[1,2,3], [3,4,5]], [[1,2,3], [3,4,5]]])\n",
    "print(\"Dimension :\", arr.ndim)\n",
    "print(\"Shape of the array : \", arr.shape)\n",
    "print(\"*\"*50)\n",
    "print(arr)"
   ]
  },
  {
   "cell_type": "code",
   "execution_count": 18,
   "id": "90716f3d",
   "metadata": {
    "ExecuteTime": {
     "end_time": "2022-07-12T15:52:02.487212Z",
     "start_time": "2022-07-12T15:52:02.480583Z"
    }
   },
   "outputs": [
    {
     "data": {
      "text/plain": [
       "5"
      ]
     },
     "execution_count": 18,
     "metadata": {},
     "output_type": "execute_result"
    }
   ],
   "source": [
    "arr[1][1][2]"
   ]
  },
  {
   "cell_type": "code",
   "execution_count": 14,
   "id": "72d2d986",
   "metadata": {
    "ExecuteTime": {
     "end_time": "2022-07-12T15:46:01.412222Z",
     "start_time": "2022-07-12T15:46:01.402405Z"
    }
   },
   "outputs": [
    {
     "name": "stdout",
     "output_type": "stream",
     "text": [
      "Dimension : 4\n",
      "Shape of the array :  (2, 2, 2, 3)\n",
      "**************************************************\n",
      "[[[[1 2 3]\n",
      "   [3 4 5]]\n",
      "\n",
      "  [[1 2 3]\n",
      "   [3 4 5]]]\n",
      "\n",
      "\n",
      " [[[1 2 3]\n",
      "   [3 4 5]]\n",
      "\n",
      "  [[1 2 3]\n",
      "   [3 4 5]]]]\n"
     ]
    }
   ],
   "source": [
    "arr = np.array([[[[1,2,3], [3,4,5]], [[1,2,3], [3,4,5]]], [[[1,2,3], [3,4,5]], [[1,2,3], [3,4,5]]]])\n",
    "print(\"Dimension :\", arr.ndim)\n",
    "print(\"Shape of the array : \", arr.shape)\n",
    "print(\"*\"*50)\n",
    "print(arr)"
   ]
  },
  {
   "cell_type": "code",
   "execution_count": 15,
   "id": "8260968a",
   "metadata": {
    "ExecuteTime": {
     "end_time": "2022-07-12T15:48:01.976593Z",
     "start_time": "2022-07-12T15:48:01.954487Z"
    }
   },
   "outputs": [
    {
     "data": {
      "text/plain": [
       "3"
      ]
     },
     "execution_count": 15,
     "metadata": {},
     "output_type": "execute_result"
    }
   ],
   "source": [
    "arr[0][1][0][2]"
   ]
  },
  {
   "cell_type": "code",
   "execution_count": 16,
   "id": "baaa9fc7",
   "metadata": {
    "ExecuteTime": {
     "end_time": "2022-07-12T15:51:00.093667Z",
     "start_time": "2022-07-12T15:51:00.086673Z"
    }
   },
   "outputs": [
    {
     "data": {
      "text/plain": [
       "4"
      ]
     },
     "execution_count": 16,
     "metadata": {},
     "output_type": "execute_result"
    }
   ],
   "source": [
    "arr[1][1][1][1]"
   ]
  },
  {
   "cell_type": "code",
   "execution_count": 19,
   "id": "00b77085",
   "metadata": {
    "ExecuteTime": {
     "end_time": "2022-07-12T15:54:04.408454Z",
     "start_time": "2022-07-12T15:54:04.401026Z"
    }
   },
   "outputs": [
    {
     "name": "stdout",
     "output_type": "stream",
     "text": [
      "()\n",
      "0\n"
     ]
    }
   ],
   "source": [
    "arr = np.array(43)\n",
    "print(arr.shape)\n",
    "print(arr.ndim)"
   ]
  },
  {
   "cell_type": "code",
   "execution_count": 20,
   "id": "8ee7f3e3",
   "metadata": {
    "ExecuteTime": {
     "end_time": "2022-07-12T15:55:33.016600Z",
     "start_time": "2022-07-12T15:55:33.010923Z"
    }
   },
   "outputs": [
    {
     "name": "stdout",
     "output_type": "stream",
     "text": [
      "[[1. 2. 3.]\n",
      " [4. 5. 6.]]\n"
     ]
    }
   ],
   "source": [
    "arr = np.array([[1,2,3], [4,5,6]], dtype='float')\n",
    "print(arr)\n"
   ]
  },
  {
   "cell_type": "code",
   "execution_count": 22,
   "id": "b30759bc",
   "metadata": {
    "ExecuteTime": {
     "end_time": "2022-07-12T15:56:28.172486Z",
     "start_time": "2022-07-12T15:56:28.167631Z"
    }
   },
   "outputs": [
    {
     "name": "stdout",
     "output_type": "stream",
     "text": [
      "[[0. 0. 0. 0. 0.]\n",
      " [0. 0. 0. 0. 0.]\n",
      " [0. 0. 0. 0. 0.]]\n"
     ]
    }
   ],
   "source": [
    "arr = np.zeros((3,5))\n",
    "print(arr)"
   ]
  },
  {
   "cell_type": "code",
   "execution_count": 23,
   "id": "c9f4bc10",
   "metadata": {
    "ExecuteTime": {
     "end_time": "2022-07-12T15:57:14.175649Z",
     "start_time": "2022-07-12T15:57:14.170189Z"
    }
   },
   "outputs": [
    {
     "name": "stdout",
     "output_type": "stream",
     "text": [
      "[[1. 1. 1. 1. 1.]\n",
      " [1. 1. 1. 1. 1.]\n",
      " [1. 1. 1. 1. 1.]\n",
      " [1. 1. 1. 1. 1.]]\n"
     ]
    }
   ],
   "source": [
    "arr = np.ones((4,5))\n",
    "print(arr)"
   ]
  },
  {
   "cell_type": "code",
   "execution_count": 24,
   "id": "4250fd69",
   "metadata": {
    "ExecuteTime": {
     "end_time": "2022-07-12T15:58:19.194131Z",
     "start_time": "2022-07-12T15:58:19.188307Z"
    }
   },
   "outputs": [
    {
     "name": "stdout",
     "output_type": "stream",
     "text": [
      "[[0.59609938 0.25654437 0.47738698 0.08629938 0.04836533]\n",
      " [0.74390667 0.80788415 0.34780189 0.84888255 0.32913509]\n",
      " [0.9040475  0.08655975 0.4774808  0.32889247 0.3754782 ]\n",
      " [0.37513657 0.57480563 0.74471062 0.02616467 0.94348683]]\n"
     ]
    }
   ],
   "source": [
    "arr = np.random.random((4,5))\n",
    "print(arr)"
   ]
  },
  {
   "cell_type": "code",
   "execution_count": 25,
   "id": "863bf6c3",
   "metadata": {
    "ExecuteTime": {
     "end_time": "2022-07-12T15:59:03.604020Z",
     "start_time": "2022-07-12T15:59:03.599809Z"
    }
   },
   "outputs": [],
   "source": [
    "arr = np.arange(0, 50, 5)"
   ]
  },
  {
   "cell_type": "code",
   "execution_count": 26,
   "id": "9d8870ec",
   "metadata": {
    "ExecuteTime": {
     "end_time": "2022-07-12T15:59:13.919346Z",
     "start_time": "2022-07-12T15:59:13.912711Z"
    }
   },
   "outputs": [
    {
     "name": "stdout",
     "output_type": "stream",
     "text": [
      "[ 0  5 10 15 20 25 30 35 40 45]\n"
     ]
    }
   ],
   "source": [
    "print(arr)"
   ]
  },
  {
   "cell_type": "code",
   "execution_count": 28,
   "id": "e85d95b8",
   "metadata": {
    "ExecuteTime": {
     "end_time": "2022-07-12T16:00:54.724206Z",
     "start_time": "2022-07-12T16:00:54.718456Z"
    }
   },
   "outputs": [
    {
     "name": "stdout",
     "output_type": "stream",
     "text": [
      "2\n",
      "(3, 4)\n",
      "[[1 2 3 4]\n",
      " [4 5 6 7]\n",
      " [7 8 9 2]]\n"
     ]
    }
   ],
   "source": [
    "arr = np.array([[1,2,3,4], [4,5,6,7], [7,8,9,2]])\n",
    "print(arr.ndim)\n",
    "print(arr.shape)\n",
    "print(arr)\n"
   ]
  },
  {
   "cell_type": "code",
   "execution_count": 29,
   "id": "1c7f8c10",
   "metadata": {
    "ExecuteTime": {
     "end_time": "2022-07-12T16:01:55.573706Z",
     "start_time": "2022-07-12T16:01:55.568482Z"
    }
   },
   "outputs": [
    {
     "name": "stdout",
     "output_type": "stream",
     "text": [
      "[[[1 2 3]\n",
      "  [4 4 5]]\n",
      "\n",
      " [[6 7 7]\n",
      "  [8 9 2]]]\n",
      "3\n",
      "(2, 2, 3)\n"
     ]
    }
   ],
   "source": [
    "new_shape = arr.reshape(2,2,3)\n",
    "print(new_shape)\n",
    "print(new_shape.ndim)\n",
    "print(new_shape.shape)"
   ]
  },
  {
   "cell_type": "code",
   "execution_count": 30,
   "id": "9a8ab1f0",
   "metadata": {
    "ExecuteTime": {
     "end_time": "2022-07-12T16:07:28.531018Z",
     "start_time": "2022-07-12T16:07:28.522818Z"
    }
   },
   "outputs": [
    {
     "name": "stdout",
     "output_type": "stream",
     "text": [
      "[2 3 4 5 6 7]\n",
      "1\n"
     ]
    }
   ],
   "source": [
    "arr = np.array([[2,3,4], [5,6,7]])\n",
    "flat_arr = arr.flatten()\n",
    "print(flat_arr)\n",
    "print(flat_arr.ndim)"
   ]
  },
  {
   "cell_type": "code",
   "execution_count": 32,
   "id": "6638e8e3",
   "metadata": {
    "ExecuteTime": {
     "end_time": "2022-07-12T16:10:22.610874Z",
     "start_time": "2022-07-12T16:10:22.604003Z"
    }
   },
   "outputs": [
    {
     "name": "stdout",
     "output_type": "stream",
     "text": [
      "[[1 4]\n",
      " [8 2]]\n",
      "[[1]]\n",
      "[[1]\n",
      " [3]\n",
      " [8]\n",
      " [9]]\n"
     ]
    }
   ],
   "source": [
    "¸\n",
    "print(arr[::2, ::3])\n",
    "print(arr[0:1, :1])\n",
    "print(arr[:, :1])"
   ]
  },
  {
   "cell_type": "code",
   "execution_count": 33,
   "id": "0d1e820e",
   "metadata": {
    "ExecuteTime": {
     "end_time": "2022-07-12T16:14:00.432197Z",
     "start_time": "2022-07-12T16:14:00.425550Z"
    }
   },
   "outputs": [
    {
     "data": {
      "text/plain": [
       "array([1, 2, 3, 4, 3, 5, 6, 7, 8, 3, 4, 2, 9, 5, 4, 2])"
      ]
     },
     "execution_count": 33,
     "metadata": {},
     "output_type": "execute_result"
    }
   ],
   "source": [
    "arr.flatten()"
   ]
  },
  {
   "cell_type": "code",
   "execution_count": 35,
   "id": "0a04feae",
   "metadata": {
    "ExecuteTime": {
     "end_time": "2022-07-12T16:14:39.881029Z",
     "start_time": "2022-07-12T16:14:39.875248Z"
    }
   },
   "outputs": [
    {
     "data": {
      "text/plain": [
       "[1, 3, 8, 9]"
      ]
     },
     "execution_count": 35,
     "metadata": {},
     "output_type": "execute_result"
    }
   ],
   "source": [
    "list(arr[:, :1].flatten())"
   ]
  },
  {
   "cell_type": "code",
   "execution_count": 36,
   "id": "b88b8ddb",
   "metadata": {
    "ExecuteTime": {
     "end_time": "2022-07-12T16:15:57.309193Z",
     "start_time": "2022-07-12T16:15:57.303943Z"
    }
   },
   "outputs": [],
   "source": [
    "z = np.array([[[1,2,3], [3,4,5]], [[1,2,3], [3,4,5]]])"
   ]
  },
  {
   "cell_type": "code",
   "execution_count": 37,
   "id": "fcc26d09",
   "metadata": {
    "ExecuteTime": {
     "end_time": "2022-07-12T16:16:13.684618Z",
     "start_time": "2022-07-12T16:16:13.678489Z"
    }
   },
   "outputs": [
    {
     "data": {
      "text/plain": [
       "(array([0, 1]), array([1, 1]), array([2, 2]))"
      ]
     },
     "execution_count": 37,
     "metadata": {},
     "output_type": "execute_result"
    }
   ],
   "source": [
    "np.where(z== 5)"
   ]
  },
  {
   "cell_type": "code",
   "execution_count": 38,
   "id": "087f866f",
   "metadata": {
    "ExecuteTime": {
     "end_time": "2022-07-12T16:20:11.546598Z",
     "start_time": "2022-07-12T16:20:11.535892Z"
    }
   },
   "outputs": [
    {
     "data": {
      "text/plain": [
       "(2, 2, 3)"
      ]
     },
     "execution_count": 38,
     "metadata": {},
     "output_type": "execute_result"
    }
   ],
   "source": [
    "z.shape"
   ]
  },
  {
   "cell_type": "code",
   "execution_count": null,
   "id": "59d23cb9",
   "metadata": {},
   "outputs": [],
   "source": [
    "z[0][1][2]\n",
    "z[1][1][2]"
   ]
  },
  {
   "cell_type": "code",
   "execution_count": null,
   "id": "003f9064",
   "metadata": {},
   "outputs": [],
   "source": []
  }
 ],
 "metadata": {
  "kernelspec": {
   "display_name": "Python 3 (ipykernel)",
   "language": "python",
   "name": "python3"
  },
  "language_info": {
   "codemirror_mode": {
    "name": "ipython",
    "version": 3
   },
   "file_extension": ".py",
   "mimetype": "text/x-python",
   "name": "python",
   "nbconvert_exporter": "python",
   "pygments_lexer": "ipython3",
   "version": "3.8.8"
  }
 },
 "nbformat": 4,
 "nbformat_minor": 5
}
