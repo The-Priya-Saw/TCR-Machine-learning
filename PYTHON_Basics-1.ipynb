{
 "cells": [
  {
   "cell_type": "code",
   "execution_count": 1,
   "id": "f5987ac1",
   "metadata": {
    "ExecuteTime": {
     "end_time": "2022-12-26T13:40:55.197349Z",
     "start_time": "2022-12-26T13:40:55.191202Z"
    }
   },
   "outputs": [
    {
     "name": "stdout",
     "output_type": "stream",
     "text": [
      "WElcome to TCR\n"
     ]
    }
   ],
   "source": [
    "print(\"WElcome to TCR\")"
   ]
  },
  {
   "cell_type": "code",
   "execution_count": 2,
   "id": "0870905a",
   "metadata": {
    "ExecuteTime": {
     "end_time": "2022-12-26T13:44:00.934402Z",
     "start_time": "2022-12-26T13:44:00.928884Z"
    }
   },
   "outputs": [
    {
     "name": "stdout",
     "output_type": "stream",
     "text": [
      "2\n"
     ]
    }
   ],
   "source": [
    "x = 2 \n",
    "print(x)"
   ]
  },
  {
   "cell_type": "code",
   "execution_count": 4,
   "id": "aa3bcbf7",
   "metadata": {
    "ExecuteTime": {
     "end_time": "2022-12-26T13:44:27.258363Z",
     "start_time": "2022-12-26T13:44:27.252242Z"
    }
   },
   "outputs": [
    {
     "name": "stdout",
     "output_type": "stream",
     "text": [
      "0x104229980\n"
     ]
    }
   ],
   "source": [
    "print(hex(id(x)))"
   ]
  },
  {
   "cell_type": "code",
   "execution_count": 5,
   "id": "88d7f3ab",
   "metadata": {
    "ExecuteTime": {
     "end_time": "2022-12-26T13:44:52.847229Z",
     "start_time": "2022-12-26T13:44:52.841577Z"
    }
   },
   "outputs": [
    {
     "name": "stdout",
     "output_type": "stream",
     "text": [
      "4\n"
     ]
    }
   ],
   "source": [
    "x = 4\n",
    "print(x)"
   ]
  },
  {
   "cell_type": "code",
   "execution_count": 6,
   "id": "0e21e015",
   "metadata": {
    "ExecuteTime": {
     "end_time": "2022-12-26T13:45:58.708120Z",
     "start_time": "2022-12-26T13:45:58.702876Z"
    }
   },
   "outputs": [
    {
     "name": "stdout",
     "output_type": "stream",
     "text": [
      "0x1042299c0\n"
     ]
    }
   ],
   "source": [
    "print(hex(id(x)))"
   ]
  },
  {
   "cell_type": "code",
   "execution_count": 7,
   "id": "f3bfa119",
   "metadata": {
    "ExecuteTime": {
     "end_time": "2022-12-26T13:46:33.595963Z",
     "start_time": "2022-12-26T13:46:33.591220Z"
    }
   },
   "outputs": [
    {
     "name": "stdout",
     "output_type": "stream",
     "text": [
      "0x104229980\n"
     ]
    }
   ],
   "source": [
    "x =2\n",
    "print(hex(id(x)))"
   ]
  },
  {
   "cell_type": "code",
   "execution_count": 9,
   "id": "af6f36da",
   "metadata": {
    "ExecuteTime": {
     "end_time": "2022-12-26T13:49:21.580280Z",
     "start_time": "2022-12-26T13:49:21.576793Z"
    }
   },
   "outputs": [
    {
     "name": "stdout",
     "output_type": "stream",
     "text": [
      "0x104229980\n"
     ]
    }
   ],
   "source": [
    "print(hex(id(x)))"
   ]
  },
  {
   "cell_type": "markdown",
   "id": "f10b8f45",
   "metadata": {},
   "source": [
    "## Data Types/Structure"
   ]
  },
  {
   "cell_type": "code",
   "execution_count": null,
   "id": "f4365df3",
   "metadata": {},
   "outputs": [],
   "source": [
    "string  = \"Machine Learning\"\n",
    "string =\"2374638\"\n",
    "Integer = 234876876\n",
    "Float  = 3.97349\n",
    "boolean = True/False\n",
    "complex_ = 4j\n",
    "\n",
    "------------------------------------\n",
    "\n",
    "List  = [\"Rishav\", \"TCR\", 376, True, 28.0, \"MAchine Learning\"]\n",
    "\n",
    "Tuple = (\"rishav\", \"TCR\", 7346, True)\n",
    "\n",
    "Set = {\"Rishav\", \"TCR\"}\n",
    "\n",
    "Dict = {\"Course\" : \"Machine Learning\", \"Mentor\": \"Rishav\", \"PLatform\": \"TCR\"}"
   ]
  },
  {
   "cell_type": "markdown",
   "id": "69faf2dc",
   "metadata": {},
   "source": [
    " ## List - [ ] "
   ]
  },
  {
   "cell_type": "code",
   "execution_count": 10,
   "id": "3f899cb1",
   "metadata": {
    "ExecuteTime": {
     "end_time": "2022-12-26T14:12:40.839359Z",
     "start_time": "2022-12-26T14:12:40.834655Z"
    }
   },
   "outputs": [
    {
     "name": "stdout",
     "output_type": "stream",
     "text": [
      "['Python', 'Java', 'ML', 'DL', 'SQL']\n"
     ]
    }
   ],
   "source": [
    "x = [\"Python\", \"Java\", \"ML\", \"DL\", \"SQL\"]\n",
    "print(x)"
   ]
  },
  {
   "cell_type": "code",
   "execution_count": 11,
   "id": "de323c2a",
   "metadata": {
    "ExecuteTime": {
     "end_time": "2022-12-26T14:12:50.458082Z",
     "start_time": "2022-12-26T14:12:50.447823Z"
    }
   },
   "outputs": [
    {
     "data": {
      "text/plain": [
       "5"
      ]
     },
     "execution_count": 11,
     "metadata": {},
     "output_type": "execute_result"
    }
   ],
   "source": [
    "x.__len__()"
   ]
  },
  {
   "cell_type": "code",
   "execution_count": 12,
   "id": "53294a1e",
   "metadata": {
    "ExecuteTime": {
     "end_time": "2022-12-26T14:13:13.442542Z",
     "start_time": "2022-12-26T14:13:13.436067Z"
    }
   },
   "outputs": [
    {
     "data": {
      "text/plain": [
       "'Python'"
      ]
     },
     "execution_count": 12,
     "metadata": {},
     "output_type": "execute_result"
    }
   ],
   "source": [
    "x[0]"
   ]
  },
  {
   "cell_type": "code",
   "execution_count": 13,
   "id": "638df9d8",
   "metadata": {
    "ExecuteTime": {
     "end_time": "2022-12-26T14:13:16.269901Z",
     "start_time": "2022-12-26T14:13:16.259997Z"
    }
   },
   "outputs": [
    {
     "data": {
      "text/plain": [
       "'Java'"
      ]
     },
     "execution_count": 13,
     "metadata": {},
     "output_type": "execute_result"
    }
   ],
   "source": [
    "x[1]"
   ]
  },
  {
   "cell_type": "code",
   "execution_count": 14,
   "id": "23ca5e40",
   "metadata": {
    "ExecuteTime": {
     "end_time": "2022-12-26T14:14:06.977060Z",
     "start_time": "2022-12-26T14:14:06.970515Z"
    }
   },
   "outputs": [
    {
     "data": {
      "text/plain": [
       "['Java', 'ML', 'DL']"
      ]
     },
     "execution_count": 14,
     "metadata": {},
     "output_type": "execute_result"
    }
   ],
   "source": [
    "x[1:4]"
   ]
  },
  {
   "cell_type": "code",
   "execution_count": 15,
   "id": "ad021d89",
   "metadata": {
    "ExecuteTime": {
     "end_time": "2022-12-26T14:14:57.796261Z",
     "start_time": "2022-12-26T14:14:57.786871Z"
    }
   },
   "outputs": [
    {
     "data": {
      "text/plain": [
       "list"
      ]
     },
     "execution_count": 15,
     "metadata": {},
     "output_type": "execute_result"
    }
   ],
   "source": [
    "type(x)"
   ]
  },
  {
   "cell_type": "code",
   "execution_count": 16,
   "id": "968ea05d",
   "metadata": {
    "ExecuteTime": {
     "end_time": "2022-12-26T14:15:03.939777Z",
     "start_time": "2022-12-26T14:15:03.932668Z"
    }
   },
   "outputs": [
    {
     "data": {
      "text/plain": [
       "str"
      ]
     },
     "execution_count": 16,
     "metadata": {},
     "output_type": "execute_result"
    }
   ],
   "source": [
    "type(x[0])"
   ]
  },
  {
   "cell_type": "code",
   "execution_count": 17,
   "id": "c7b44519",
   "metadata": {
    "ExecuteTime": {
     "end_time": "2022-12-26T14:15:34.774163Z",
     "start_time": "2022-12-26T14:15:34.766277Z"
    }
   },
   "outputs": [
    {
     "data": {
      "text/plain": [
       "['DL', 'SQL']"
      ]
     },
     "execution_count": 17,
     "metadata": {},
     "output_type": "execute_result"
    }
   ],
   "source": [
    "x[-2:]"
   ]
  },
  {
   "cell_type": "code",
   "execution_count": 18,
   "id": "af9bd0ce",
   "metadata": {
    "ExecuteTime": {
     "end_time": "2022-12-26T14:17:17.774581Z",
     "start_time": "2022-12-26T14:17:17.768550Z"
    }
   },
   "outputs": [],
   "source": [
    "x[3] = \"maths\""
   ]
  },
  {
   "cell_type": "code",
   "execution_count": 19,
   "id": "2a32337c",
   "metadata": {
    "ExecuteTime": {
     "end_time": "2022-12-26T14:17:18.793197Z",
     "start_time": "2022-12-26T14:17:18.787414Z"
    }
   },
   "outputs": [
    {
     "data": {
      "text/plain": [
       "['Python', 'Java', 'ML', 'maths', 'SQL']"
      ]
     },
     "execution_count": 19,
     "metadata": {},
     "output_type": "execute_result"
    }
   ],
   "source": [
    "x"
   ]
  },
  {
   "cell_type": "code",
   "execution_count": 20,
   "id": "c335a1d5",
   "metadata": {
    "ExecuteTime": {
     "end_time": "2022-12-26T14:17:46.469475Z",
     "start_time": "2022-12-26T14:17:46.465278Z"
    }
   },
   "outputs": [],
   "source": [
    "x[2:4] = [\"HTML\", 'CSS']"
   ]
  },
  {
   "cell_type": "code",
   "execution_count": 21,
   "id": "1f11c133",
   "metadata": {
    "ExecuteTime": {
     "end_time": "2022-12-26T14:17:47.695800Z",
     "start_time": "2022-12-26T14:17:47.691705Z"
    }
   },
   "outputs": [
    {
     "data": {
      "text/plain": [
       "['Python', 'Java', 'HTML', 'CSS', 'SQL']"
      ]
     },
     "execution_count": 21,
     "metadata": {},
     "output_type": "execute_result"
    }
   ],
   "source": [
    "x"
   ]
  },
  {
   "cell_type": "code",
   "execution_count": 30,
   "id": "6f0306a9",
   "metadata": {
    "ExecuteTime": {
     "end_time": "2022-12-26T14:22:09.627578Z",
     "start_time": "2022-12-26T14:22:09.623263Z"
    }
   },
   "outputs": [],
   "source": [
    "x.append(\"ML\")"
   ]
  },
  {
   "cell_type": "code",
   "execution_count": 31,
   "id": "8aaaab58",
   "metadata": {
    "ExecuteTime": {
     "end_time": "2022-12-26T14:22:14.563535Z",
     "start_time": "2022-12-26T14:22:14.556608Z"
    }
   },
   "outputs": [
    {
     "data": {
      "text/plain": [
       "['Python', 'Java', 'HTML', 'CSS', 'SQL', 'ML', 'CV', 'NLP', 'ML']"
      ]
     },
     "execution_count": 31,
     "metadata": {},
     "output_type": "execute_result"
    }
   ],
   "source": [
    "x"
   ]
  },
  {
   "cell_type": "code",
   "execution_count": 32,
   "id": "7a6da737",
   "metadata": {
    "ExecuteTime": {
     "end_time": "2022-12-26T14:22:19.181800Z",
     "start_time": "2022-12-26T14:22:19.177737Z"
    }
   },
   "outputs": [],
   "source": [
    "x.append(['CV', 'NLP'])"
   ]
  },
  {
   "cell_type": "code",
   "execution_count": 33,
   "id": "c3cd2d05",
   "metadata": {
    "ExecuteTime": {
     "end_time": "2022-12-26T14:22:24.660578Z",
     "start_time": "2022-12-26T14:22:24.654270Z"
    }
   },
   "outputs": [
    {
     "data": {
      "text/plain": [
       "['Python',\n",
       " 'Java',\n",
       " 'HTML',\n",
       " 'CSS',\n",
       " 'SQL',\n",
       " 'ML',\n",
       " 'CV',\n",
       " 'NLP',\n",
       " 'ML',\n",
       " ['CV', 'NLP']]"
      ]
     },
     "execution_count": 33,
     "metadata": {},
     "output_type": "execute_result"
    }
   ],
   "source": [
    "x"
   ]
  },
  {
   "cell_type": "code",
   "execution_count": 34,
   "id": "0941bd9b",
   "metadata": {
    "ExecuteTime": {
     "end_time": "2022-12-26T14:22:39.048902Z",
     "start_time": "2022-12-26T14:22:39.042053Z"
    }
   },
   "outputs": [
    {
     "data": {
      "text/plain": [
       "['CV', 'NLP']"
      ]
     },
     "execution_count": 34,
     "metadata": {},
     "output_type": "execute_result"
    }
   ],
   "source": [
    "x.pop()"
   ]
  },
  {
   "cell_type": "code",
   "execution_count": 35,
   "id": "ef970a3b",
   "metadata": {
    "ExecuteTime": {
     "end_time": "2022-12-26T14:22:45.833073Z",
     "start_time": "2022-12-26T14:22:45.827678Z"
    }
   },
   "outputs": [
    {
     "data": {
      "text/plain": [
       "['Python', 'Java', 'HTML', 'CSS', 'SQL', 'ML', 'CV', 'NLP', 'ML']"
      ]
     },
     "execution_count": 35,
     "metadata": {},
     "output_type": "execute_result"
    }
   ],
   "source": [
    "x"
   ]
  },
  {
   "cell_type": "code",
   "execution_count": 36,
   "id": "697f9792",
   "metadata": {
    "ExecuteTime": {
     "end_time": "2022-12-26T14:22:58.235053Z",
     "start_time": "2022-12-26T14:22:58.230629Z"
    }
   },
   "outputs": [],
   "source": [
    "x.extend(['CV', 'NLP'])"
   ]
  },
  {
   "cell_type": "code",
   "execution_count": 37,
   "id": "69281948",
   "metadata": {
    "ExecuteTime": {
     "end_time": "2022-12-26T14:23:00.559192Z",
     "start_time": "2022-12-26T14:23:00.550190Z"
    }
   },
   "outputs": [
    {
     "data": {
      "text/plain": [
       "['Python', 'Java', 'HTML', 'CSS', 'SQL', 'ML', 'CV', 'NLP', 'ML', 'CV', 'NLP']"
      ]
     },
     "execution_count": 37,
     "metadata": {},
     "output_type": "execute_result"
    }
   ],
   "source": [
    "x"
   ]
  },
  {
   "cell_type": "code",
   "execution_count": 38,
   "id": "735b26ae",
   "metadata": {
    "ExecuteTime": {
     "end_time": "2022-12-26T14:23:58.931525Z",
     "start_time": "2022-12-26T14:23:58.927278Z"
    }
   },
   "outputs": [],
   "source": [
    "x.insert(3, 'Powerbi')"
   ]
  },
  {
   "cell_type": "code",
   "execution_count": 43,
   "id": "b00b8edc",
   "metadata": {
    "ExecuteTime": {
     "end_time": "2022-12-26T14:25:32.897930Z",
     "start_time": "2022-12-26T14:25:32.894557Z"
    }
   },
   "outputs": [],
   "source": [
    "x.remove('ML')"
   ]
  },
  {
   "cell_type": "code",
   "execution_count": 44,
   "id": "5b86cc79",
   "metadata": {
    "ExecuteTime": {
     "end_time": "2022-12-26T14:25:34.663878Z",
     "start_time": "2022-12-26T14:25:34.657375Z"
    }
   },
   "outputs": [
    {
     "data": {
      "text/plain": [
       "['Python', 'HTML', 'Powerbi', 'CSS', 'SQL', 'CV', 'NLP', 'ML', 'CV', 'NLP']"
      ]
     },
     "execution_count": 44,
     "metadata": {},
     "output_type": "execute_result"
    }
   ],
   "source": [
    "x"
   ]
  },
  {
   "cell_type": "code",
   "execution_count": 47,
   "id": "e240d710",
   "metadata": {
    "ExecuteTime": {
     "end_time": "2022-12-26T14:27:00.534565Z",
     "start_time": "2022-12-26T14:27:00.529656Z"
    }
   },
   "outputs": [],
   "source": [
    "x.sort(reverse=True)"
   ]
  },
  {
   "cell_type": "code",
   "execution_count": 49,
   "id": "7777b9b6",
   "metadata": {
    "ExecuteTime": {
     "end_time": "2022-12-26T14:30:01.436144Z",
     "start_time": "2022-12-26T14:30:01.428665Z"
    }
   },
   "outputs": [
    {
     "data": {
      "text/plain": [
       "3"
      ]
     },
     "execution_count": 49,
     "metadata": {},
     "output_type": "execute_result"
    }
   ],
   "source": [
    "x.index('NLP')"
   ]
  },
  {
   "cell_type": "markdown",
   "id": "07e4ae39",
   "metadata": {},
   "source": [
    "## Tuple - ( )"
   ]
  },
  {
   "cell_type": "code",
   "execution_count": 51,
   "id": "771cb452",
   "metadata": {
    "ExecuteTime": {
     "end_time": "2022-12-26T14:34:07.036134Z",
     "start_time": "2022-12-26T14:34:07.030158Z"
    }
   },
   "outputs": [
    {
     "name": "stdout",
     "output_type": "stream",
     "text": [
      "('reactkjs', 'html', 'css', 'python', 'java')\n"
     ]
    }
   ],
   "source": [
    "skills = (\"reactkjs\", \"html\", 'css', 'python', 'java')\n",
    "print(skills)"
   ]
  },
  {
   "cell_type": "code",
   "execution_count": 53,
   "id": "689f3527",
   "metadata": {
    "ExecuteTime": {
     "end_time": "2022-12-26T14:34:20.218740Z",
     "start_time": "2022-12-26T14:34:20.210979Z"
    }
   },
   "outputs": [
    {
     "data": {
      "text/plain": [
       "tuple"
      ]
     },
     "execution_count": 53,
     "metadata": {},
     "output_type": "execute_result"
    }
   ],
   "source": [
    "type(skills)"
   ]
  },
  {
   "cell_type": "code",
   "execution_count": 54,
   "id": "89c8fec5",
   "metadata": {
    "ExecuteTime": {
     "end_time": "2022-12-26T14:34:30.691831Z",
     "start_time": "2022-12-26T14:34:30.684531Z"
    }
   },
   "outputs": [
    {
     "data": {
      "text/plain": [
       "5"
      ]
     },
     "execution_count": 54,
     "metadata": {},
     "output_type": "execute_result"
    }
   ],
   "source": [
    "skills.__len__()"
   ]
  },
  {
   "cell_type": "code",
   "execution_count": 55,
   "id": "52ff6ff0",
   "metadata": {
    "ExecuteTime": {
     "end_time": "2022-12-26T14:34:40.658835Z",
     "start_time": "2022-12-26T14:34:40.651891Z"
    }
   },
   "outputs": [
    {
     "data": {
      "text/plain": [
       "'reactkjs'"
      ]
     },
     "execution_count": 55,
     "metadata": {},
     "output_type": "execute_result"
    }
   ],
   "source": [
    "skills[0]"
   ]
  },
  {
   "cell_type": "code",
   "execution_count": 56,
   "id": "c44d948f",
   "metadata": {
    "ExecuteTime": {
     "end_time": "2022-12-26T14:34:47.695599Z",
     "start_time": "2022-12-26T14:34:47.688946Z"
    }
   },
   "outputs": [
    {
     "data": {
      "text/plain": [
       "('reactkjs', 'html')"
      ]
     },
     "execution_count": 56,
     "metadata": {},
     "output_type": "execute_result"
    }
   ],
   "source": [
    "skills[0:2]"
   ]
  },
  {
   "cell_type": "code",
   "execution_count": 57,
   "id": "bde76c43",
   "metadata": {
    "ExecuteTime": {
     "end_time": "2022-12-26T14:35:19.541250Z",
     "start_time": "2022-12-26T14:35:19.521828Z"
    }
   },
   "outputs": [
    {
     "ename": "TypeError",
     "evalue": "'tuple' object does not support item assignment",
     "output_type": "error",
     "traceback": [
      "\u001b[0;31m---------------------------------------------------------------------------\u001b[0m",
      "\u001b[0;31mTypeError\u001b[0m                                 Traceback (most recent call last)",
      "Input \u001b[0;32mIn [57]\u001b[0m, in \u001b[0;36m<cell line: 1>\u001b[0;34m()\u001b[0m\n\u001b[0;32m----> 1\u001b[0m skills[\u001b[38;5;241m0\u001b[39m] \u001b[38;5;241m=\u001b[39m \u001b[38;5;124m\"\u001b[39m\u001b[38;5;124mMachine Learning\u001b[39m\u001b[38;5;124m\"\u001b[39m\n",
      "\u001b[0;31mTypeError\u001b[0m: 'tuple' object does not support item assignment"
     ]
    }
   ],
   "source": [
    "skills[0] = \"Machine Learning\""
   ]
  },
  {
   "cell_type": "code",
   "execution_count": 62,
   "id": "f0e4e036",
   "metadata": {
    "ExecuteTime": {
     "end_time": "2022-12-26T14:38:30.027512Z",
     "start_time": "2022-12-26T14:38:30.022432Z"
    },
    "code_folding": [],
    "scrolled": true
   },
   "outputs": [
    {
     "name": "stdout",
     "output_type": "stream",
     "text": [
      "('reactkjs', 'html', 'css', 'python', 'java', 'ML', 'DL', 'CV', 'NLP')\n"
     ]
    }
   ],
   "source": [
    "#typecasting\n",
    "y = list(skills)\n",
    "y.extend([\"ML\", \"DL\", \"CV\", \"NLP\"])\n",
    "y = tuple(y)\n",
    "print(y)"
   ]
  },
  {
   "cell_type": "code",
   "execution_count": 60,
   "id": "30929d1c",
   "metadata": {
    "ExecuteTime": {
     "end_time": "2022-12-26T14:37:28.224298Z",
     "start_time": "2022-12-26T14:37:28.218079Z"
    }
   },
   "outputs": [
    {
     "data": {
      "text/plain": [
       "9"
      ]
     },
     "execution_count": 60,
     "metadata": {},
     "output_type": "execute_result"
    }
   ],
   "source": [
    "y.__len__()"
   ]
  },
  {
   "cell_type": "code",
   "execution_count": 61,
   "id": "73a4565f",
   "metadata": {
    "ExecuteTime": {
     "end_time": "2022-12-26T14:37:33.755588Z",
     "start_time": "2022-12-26T14:37:33.749151Z"
    }
   },
   "outputs": [
    {
     "data": {
      "text/plain": [
       "9"
      ]
     },
     "execution_count": 61,
     "metadata": {},
     "output_type": "execute_result"
    }
   ],
   "source": [
    "len(y)"
   ]
  },
  {
   "cell_type": "code",
   "execution_count": 64,
   "id": "9b07db92",
   "metadata": {
    "ExecuteTime": {
     "end_time": "2022-12-26T14:42:40.694576Z",
     "start_time": "2022-12-26T14:42:40.690693Z"
    }
   },
   "outputs": [
    {
     "data": {
      "text/plain": [
       "1"
      ]
     },
     "execution_count": 64,
     "metadata": {},
     "output_type": "execute_result"
    }
   ],
   "source": [
    "y.count('python')"
   ]
  },
  {
   "cell_type": "markdown",
   "id": "b4f53337",
   "metadata": {
    "ExecuteTime": {
     "end_time": "2022-12-26T14:43:35.039284Z",
     "start_time": "2022-12-26T14:43:35.034944Z"
    }
   },
   "source": [
    "## Set - { }"
   ]
  },
  {
   "cell_type": "code",
   "execution_count": 75,
   "id": "1acdf1d3",
   "metadata": {
    "ExecuteTime": {
     "end_time": "2022-12-26T14:50:01.809270Z",
     "start_time": "2022-12-26T14:50:01.804592Z"
    }
   },
   "outputs": [],
   "source": [
    "course1 = {'reactjs', 'mernstack', 'meanstack', 'maths', 'javascript'}\n",
    "course2 = {'reactjs', 'python', 'ml', 'java'}"
   ]
  },
  {
   "cell_type": "code",
   "execution_count": 68,
   "id": "f47acaea",
   "metadata": {
    "ExecuteTime": {
     "end_time": "2022-12-26T14:44:43.227812Z",
     "start_time": "2022-12-26T14:44:43.218708Z"
    }
   },
   "outputs": [
    {
     "data": {
      "text/plain": [
       "set"
      ]
     },
     "execution_count": 68,
     "metadata": {},
     "output_type": "execute_result"
    }
   ],
   "source": [
    "type(course1)"
   ]
  },
  {
   "cell_type": "code",
   "execution_count": 69,
   "id": "5b4da85b",
   "metadata": {
    "ExecuteTime": {
     "end_time": "2022-12-26T14:44:56.094959Z",
     "start_time": "2022-12-26T14:44:56.087732Z"
    }
   },
   "outputs": [
    {
     "data": {
      "text/plain": [
       "True"
      ]
     },
     "execution_count": 69,
     "metadata": {},
     "output_type": "execute_result"
    }
   ],
   "source": [
    "'reactjs' in course1"
   ]
  },
  {
   "cell_type": "code",
   "execution_count": 71,
   "id": "93deccf3",
   "metadata": {
    "ExecuteTime": {
     "end_time": "2022-12-26T14:45:19.607071Z",
     "start_time": "2022-12-26T14:45:19.582229Z"
    }
   },
   "outputs": [
    {
     "ename": "TypeError",
     "evalue": "'set' object is not subscriptable",
     "output_type": "error",
     "traceback": [
      "\u001b[0;31m---------------------------------------------------------------------------\u001b[0m",
      "\u001b[0;31mTypeError\u001b[0m                                 Traceback (most recent call last)",
      "Input \u001b[0;32mIn [71]\u001b[0m, in \u001b[0;36m<cell line: 1>\u001b[0;34m()\u001b[0m\n\u001b[0;32m----> 1\u001b[0m \u001b[43mcourse1\u001b[49m\u001b[43m[\u001b[49m\u001b[38;5;241;43m0\u001b[39;49m\u001b[43m]\u001b[49m\n",
      "\u001b[0;31mTypeError\u001b[0m: 'set' object is not subscriptable"
     ]
    }
   ],
   "source": [
    "course1[0]"
   ]
  },
  {
   "cell_type": "code",
   "execution_count": 72,
   "id": "8ad9a616",
   "metadata": {
    "ExecuteTime": {
     "end_time": "2022-12-26T14:46:11.307903Z",
     "start_time": "2022-12-26T14:46:11.285383Z"
    }
   },
   "outputs": [
    {
     "ename": "TypeError",
     "evalue": "'set' object does not support item assignment",
     "output_type": "error",
     "traceback": [
      "\u001b[0;31m---------------------------------------------------------------------------\u001b[0m",
      "\u001b[0;31mTypeError\u001b[0m                                 Traceback (most recent call last)",
      "Input \u001b[0;32mIn [72]\u001b[0m, in \u001b[0;36m<cell line: 1>\u001b[0;34m()\u001b[0m\n\u001b[0;32m----> 1\u001b[0m course1[\u001b[38;5;124m'\u001b[39m\u001b[38;5;124mreactjs\u001b[39m\u001b[38;5;124m'\u001b[39m] \u001b[38;5;241m=\u001b[39m \u001b[38;5;124m'\u001b[39m\u001b[38;5;124mmath\u001b[39m\u001b[38;5;124m'\u001b[39m\n",
      "\u001b[0;31mTypeError\u001b[0m: 'set' object does not support item assignment"
     ]
    }
   ],
   "source": [
    "course1['reactjs'] = 'math'"
   ]
  },
  {
   "cell_type": "code",
   "execution_count": 73,
   "id": "c10a7f08",
   "metadata": {
    "ExecuteTime": {
     "end_time": "2022-12-26T14:48:31.832136Z",
     "start_time": "2022-12-26T14:48:31.829295Z"
    }
   },
   "outputs": [],
   "source": [
    "course1.difference_update(course2)"
   ]
  },
  {
   "cell_type": "code",
   "execution_count": 74,
   "id": "c8978071",
   "metadata": {
    "ExecuteTime": {
     "end_time": "2022-12-26T14:48:38.520394Z",
     "start_time": "2022-12-26T14:48:38.513636Z"
    }
   },
   "outputs": [
    {
     "data": {
      "text/plain": [
       "{'javascript', 'maths', 'meanstack', 'mernstack'}"
      ]
     },
     "execution_count": 74,
     "metadata": {},
     "output_type": "execute_result"
    }
   ],
   "source": [
    "course1"
   ]
  },
  {
   "cell_type": "code",
   "execution_count": 76,
   "id": "2474571a",
   "metadata": {
    "ExecuteTime": {
     "end_time": "2022-12-26T14:50:24.666456Z",
     "start_time": "2022-12-26T14:50:24.660824Z"
    }
   },
   "outputs": [
    {
     "data": {
      "text/plain": [
       "{'reactjs'}"
      ]
     },
     "execution_count": 76,
     "metadata": {},
     "output_type": "execute_result"
    }
   ],
   "source": [
    "course1.intersection(course2)"
   ]
  },
  {
   "cell_type": "code",
   "execution_count": 77,
   "id": "10732283",
   "metadata": {
    "ExecuteTime": {
     "end_time": "2022-12-26T14:55:22.726715Z",
     "start_time": "2022-12-26T14:55:22.720293Z"
    }
   },
   "outputs": [
    {
     "data": {
      "text/plain": [
       "{'java',\n",
       " 'javascript',\n",
       " 'maths',\n",
       " 'meanstack',\n",
       " 'mernstack',\n",
       " 'ml',\n",
       " 'python',\n",
       " 'reactjs'}"
      ]
     },
     "execution_count": 77,
     "metadata": {},
     "output_type": "execute_result"
    }
   ],
   "source": [
    "course1.union(course2)"
   ]
  },
  {
   "cell_type": "markdown",
   "id": "3b88b3ce",
   "metadata": {},
   "source": [
    "# Dictionary"
   ]
  },
  {
   "cell_type": "code",
   "execution_count": 78,
   "id": "f17278b3",
   "metadata": {
    "ExecuteTime": {
     "end_time": "2022-12-26T14:58:02.465310Z",
     "start_time": "2022-12-26T14:58:02.462537Z"
    }
   },
   "outputs": [],
   "source": [
    "TCR = {\n",
    "    \"course\": \"Machine Learning\",\n",
    "    \"Mentor\" : \"Rishav\",\n",
    "    \"platform\" : \"TCR\",\n",
    "    \"Date\": 9\n",
    "}"
   ]
  },
  {
   "cell_type": "code",
   "execution_count": 79,
   "id": "dbefd323",
   "metadata": {
    "ExecuteTime": {
     "end_time": "2022-12-26T14:58:14.851359Z",
     "start_time": "2022-12-26T14:58:14.843091Z"
    }
   },
   "outputs": [
    {
     "data": {
      "text/plain": [
       "4"
      ]
     },
     "execution_count": 79,
     "metadata": {},
     "output_type": "execute_result"
    }
   ],
   "source": [
    "TCR.__len__()"
   ]
  },
  {
   "cell_type": "code",
   "execution_count": 80,
   "id": "54d71e88",
   "metadata": {
    "ExecuteTime": {
     "end_time": "2022-12-26T14:58:47.322075Z",
     "start_time": "2022-12-26T14:58:47.315060Z"
    }
   },
   "outputs": [
    {
     "data": {
      "text/plain": [
       "'Machine Learning'"
      ]
     },
     "execution_count": 80,
     "metadata": {},
     "output_type": "execute_result"
    }
   ],
   "source": [
    "TCR.get(\"course\")"
   ]
  },
  {
   "cell_type": "code",
   "execution_count": 81,
   "id": "f9fcf425",
   "metadata": {
    "ExecuteTime": {
     "end_time": "2022-12-26T14:58:58.056859Z",
     "start_time": "2022-12-26T14:58:58.049932Z"
    }
   },
   "outputs": [
    {
     "data": {
      "text/plain": [
       "'Rishav'"
      ]
     },
     "execution_count": 81,
     "metadata": {},
     "output_type": "execute_result"
    }
   ],
   "source": [
    "TCR.get(\"Mentor\")"
   ]
  },
  {
   "cell_type": "code",
   "execution_count": 82,
   "id": "0b738140",
   "metadata": {
    "ExecuteTime": {
     "end_time": "2022-12-26T14:59:35.615735Z",
     "start_time": "2022-12-26T14:59:35.608964Z"
    }
   },
   "outputs": [
    {
     "data": {
      "text/plain": [
       "dict_keys(['course', 'Mentor', 'platform', 'Date'])"
      ]
     },
     "execution_count": 82,
     "metadata": {},
     "output_type": "execute_result"
    }
   ],
   "source": [
    "TCR.keys()"
   ]
  },
  {
   "cell_type": "code",
   "execution_count": 83,
   "id": "f51e04ed",
   "metadata": {
    "ExecuteTime": {
     "end_time": "2022-12-26T14:59:40.533802Z",
     "start_time": "2022-12-26T14:59:40.526959Z"
    }
   },
   "outputs": [
    {
     "data": {
      "text/plain": [
       "dict_values(['Machine Learning', 'Rishav', 'TCR', 9])"
      ]
     },
     "execution_count": 83,
     "metadata": {},
     "output_type": "execute_result"
    }
   ],
   "source": [
    "TCR.values()"
   ]
  },
  {
   "cell_type": "code",
   "execution_count": 84,
   "id": "aebebb9a",
   "metadata": {
    "ExecuteTime": {
     "end_time": "2022-12-26T15:00:20.788831Z",
     "start_time": "2022-12-26T15:00:20.784522Z"
    }
   },
   "outputs": [
    {
     "data": {
      "text/plain": [
       "dict_items([('course', 'Machine Learning'), ('Mentor', 'Rishav'), ('platform', 'TCR'), ('Date', 9)])"
      ]
     },
     "execution_count": 84,
     "metadata": {},
     "output_type": "execute_result"
    }
   ],
   "source": [
    "TCR.items()"
   ]
  },
  {
   "cell_type": "code",
   "execution_count": 89,
   "id": "7360003a",
   "metadata": {
    "ExecuteTime": {
     "end_time": "2022-12-26T15:03:46.698053Z",
     "start_time": "2022-12-26T15:03:46.693295Z"
    }
   },
   "outputs": [
    {
     "data": {
      "text/plain": [
       "'Mentor'"
      ]
     },
     "execution_count": 89,
     "metadata": {},
     "output_type": "execute_result"
    }
   ],
   "source": [
    "list(TCR.keys())[list(TCR.values()).index('Rishav')]"
   ]
  },
  {
   "cell_type": "code",
   "execution_count": 90,
   "id": "8beedc0f",
   "metadata": {
    "ExecuteTime": {
     "end_time": "2022-12-26T15:07:16.583748Z",
     "start_time": "2022-12-26T15:07:16.580470Z"
    }
   },
   "outputs": [],
   "source": [
    "TCR.update({'teaching_mode': 'Online'})"
   ]
  },
  {
   "cell_type": "code",
   "execution_count": 91,
   "id": "a380d3c3",
   "metadata": {
    "ExecuteTime": {
     "end_time": "2022-12-26T15:07:21.185134Z",
     "start_time": "2022-12-26T15:07:21.178139Z"
    }
   },
   "outputs": [
    {
     "data": {
      "text/plain": [
       "{'course': 'Machine Learning',\n",
       " 'Mentor': 'Rishav',\n",
       " 'platform': 'TCR',\n",
       " 'Date': 9,\n",
       " 'teaching_mode': 'Online'}"
      ]
     },
     "execution_count": 91,
     "metadata": {},
     "output_type": "execute_result"
    }
   ],
   "source": [
    "TCR"
   ]
  },
  {
   "cell_type": "code",
   "execution_count": 92,
   "id": "0b4a2547",
   "metadata": {
    "ExecuteTime": {
     "end_time": "2022-12-26T15:10:34.271018Z",
     "start_time": "2022-12-26T15:10:34.263952Z"
    }
   },
   "outputs": [
    {
     "data": {
      "text/plain": [
       "('teaching_mode', 'Online')"
      ]
     },
     "execution_count": 92,
     "metadata": {},
     "output_type": "execute_result"
    }
   ],
   "source": [
    "TCR.popitem()"
   ]
  },
  {
   "cell_type": "code",
   "execution_count": 93,
   "id": "73a31bba",
   "metadata": {
    "ExecuteTime": {
     "end_time": "2022-12-26T15:12:01.943996Z",
     "start_time": "2022-12-26T15:12:01.941176Z"
    }
   },
   "outputs": [],
   "source": [
    "TCR['course'] = [\"Deep Learning\", \"Machine Learning\"]"
   ]
  },
  {
   "cell_type": "code",
   "execution_count": 94,
   "id": "4969ea5f",
   "metadata": {
    "ExecuteTime": {
     "end_time": "2022-12-26T15:12:06.027459Z",
     "start_time": "2022-12-26T15:12:06.021704Z"
    }
   },
   "outputs": [
    {
     "data": {
      "text/plain": [
       "{'course': ['Deep Learning', 'Machine Learning'],\n",
       " 'Mentor': 'Rishav',\n",
       " 'platform': 'TCR',\n",
       " 'Date': 9}"
      ]
     },
     "execution_count": 94,
     "metadata": {},
     "output_type": "execute_result"
    }
   ],
   "source": [
    "TCR"
   ]
  },
  {
   "cell_type": "markdown",
   "id": "7b85122b",
   "metadata": {},
   "source": [
    "## Conditional Statement"
   ]
  },
  {
   "cell_type": "code",
   "execution_count": 95,
   "id": "473f8bff",
   "metadata": {
    "ExecuteTime": {
     "end_time": "2022-12-26T15:17:29.739045Z",
     "start_time": "2022-12-26T15:17:29.733845Z"
    }
   },
   "outputs": [
    {
     "name": "stdout",
     "output_type": "stream",
     "text": [
      "Yes it is available\n"
     ]
    }
   ],
   "source": [
    "x = [34, 48, 22, 32, 19]\n",
    "\n",
    "if 34 in x:\n",
    "    print(\"Yes it is available\")\n",
    "else:\n",
    "    print(\"No it is not available\")"
   ]
  },
  {
   "cell_type": "code",
   "execution_count": 97,
   "id": "7f1becf7",
   "metadata": {
    "ExecuteTime": {
     "end_time": "2022-12-26T15:20:03.243725Z",
     "start_time": "2022-12-26T15:20:03.236636Z"
    }
   },
   "outputs": [
    {
     "name": "stdout",
     "output_type": "stream",
     "text": [
      "Inside fourth conditions\n"
     ]
    }
   ],
   "source": [
    "if 4 in x:\n",
    "    print(\"Yes it is available\")\n",
    "elif 21 in x:\n",
    "    print(\"Inside second conditions\")\n",
    "elif 39 in x:\n",
    "    print(\"Inside third conditions\")\n",
    "elif 22 in x:\n",
    "    print(\"Inside fourth conditions\")\n",
    "else:\n",
    "    print(\"Nothing is available \")"
   ]
  },
  {
   "cell_type": "code",
   "execution_count": null,
   "id": "a0841c8b",
   "metadata": {},
   "outputs": [],
   "source": []
  }
 ],
 "metadata": {
  "kernelspec": {
   "display_name": "Python 3 (ipykernel)",
   "language": "python",
   "name": "python3"
  },
  "language_info": {
   "codemirror_mode": {
    "name": "ipython",
    "version": 3
   },
   "file_extension": ".py",
   "mimetype": "text/x-python",
   "name": "python",
   "nbconvert_exporter": "python",
   "pygments_lexer": "ipython3",
   "version": "3.8.8"
  }
 },
 "nbformat": 4,
 "nbformat_minor": 5
}
